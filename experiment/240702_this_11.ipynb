{
 "cells": [
  {
   "cell_type": "code",
   "execution_count": 1,
   "metadata": {},
   "outputs": [
    {
     "name": "stdout",
     "output_type": "stream",
     "text": [
      "Tue Jul  2 22:21:32 2024       \n",
      "+-----------------------------------------------------------------------------------------+\n",
      "| NVIDIA-SMI 551.23                 Driver Version: 551.23         CUDA Version: 12.4     |\n",
      "|-----------------------------------------+------------------------+----------------------+\n",
      "| GPU  Name                     TCC/WDDM  | Bus-Id          Disp.A | Volatile Uncorr. ECC |\n",
      "| Fan  Temp   Perf          Pwr:Usage/Cap |           Memory-Usage | GPU-Util  Compute M. |\n",
      "|                                         |                        |               MIG M. |\n",
      "|=========================================+========================+======================|\n",
      "|   0  NVIDIA GeForce RTX 2080 ...  WDDM  |   00000000:01:00.0  On |                  N/A |\n",
      "|  0%   41C    P8              8W /  280W |     312MiB /   8192MiB |      1%      Default |\n",
      "|                                         |                        |                  N/A |\n",
      "+-----------------------------------------+------------------------+----------------------+\n",
      "                                                                                         \n",
      "+-----------------------------------------------------------------------------------------+\n",
      "| Processes:                                                                              |\n",
      "|  GPU   GI   CI        PID   Type   Process name                              GPU Memory |\n",
      "|        ID   ID                                                               Usage      |\n",
      "|=========================================================================================|\n",
      "|    0   N/A  N/A      4524    C+G   ...\\Office 2020\\HOffice110\\Bin\\Hwp.exe      N/A      |\n",
      "+-----------------------------------------------------------------------------------------+\n"
     ]
    }
   ],
   "source": [
    "!nvidia-smi"
   ]
  },
  {
   "cell_type": "code",
   "execution_count": 2,
   "metadata": {},
   "outputs": [],
   "source": [
    "import pandas as pd\n",
    "import numpy as np\n",
    "import matplotlib.pyplot as plt\n",
    "import seaborn as sns\n",
    "from scipy import signal\n",
    "from sklearn.model_selection import train_test_split,StratifiedKFold\n",
    "from sklearn.ensemble import RandomForestClassifier\n",
    "from sklearn.svm import SVC\n",
    "from sklearn.linear_model import LogisticRegression\n",
    "from sklearn.naive_bayes import GaussianNB\n",
    "from sklearn.metrics import classification_report,accuracy_score,ConfusionMatrixDisplay,confusion_matrix,precision_score,recall_score,roc_curve,roc_auc_score,balanced_accuracy_score\n",
    "from sklearn.pipeline import make_pipeline\n",
    "from sklearn.preprocessing import StandardScaler\n",
    "from xgboost import XGBClassifier\n",
    "import datetime\n",
    "from dataclasses import dataclass\n",
    "from statsmodels.tsa.holtwinters import SimpleExpSmoothing\n",
    "from scipy.ndimage import gaussian_filter1d\n",
    "from itertools import combinations as comb\n",
    "from pyts.image import RecurrencePlot\n",
    "import PIL\n",
    "from sklearn.utils import class_weight\n",
    "from sklearn.model_selection import RandomizedSearchCV,GridSearchCV,StratifiedKFold\n",
    "from unidecode import unidecode"
   ]
  },
  {
   "cell_type": "code",
   "execution_count": 3,
   "metadata": {},
   "outputs": [],
   "source": [
    "X_train_feat = pd.read_csv('X_train_feat.csv')\n",
    "y_train_feat = pd.read_csv('y_train_feat.csv')\n",
    "X_test_feat = pd.read_csv('X_test_feat.csv')\n",
    "y_test_feat = pd.read_csv('y_test_feat.csv')"
   ]
  },
  {
   "cell_type": "code",
   "execution_count": 4,
   "metadata": {},
   "outputs": [
    {
     "name": "stdout",
     "output_type": "stream",
     "text": [
      "(3643, 12)\n",
      "(3643, 1)\n",
      "(3083, 12)\n",
      "(3083, 1)\n"
     ]
    }
   ],
   "source": [
    "print(X_train_feat.shape)\n",
    "print(y_train_feat.shape)\n",
    "print(X_test_feat.shape)\n",
    "print(y_test_feat.shape)"
   ]
  },
  {
   "cell_type": "code",
   "execution_count": 5,
   "metadata": {},
   "outputs": [
    {
     "name": "stdout",
     "output_type": "stream",
     "text": [
      "(3643, 13)\n",
      "(3083, 13)\n"
     ]
    }
   ],
   "source": [
    "train_sum = pd.concat([X_train_feat, y_train_feat], axis=1)\n",
    "test_sum = pd.concat([X_test_feat, y_test_feat], axis=1)\n",
    "print(train_sum.shape)\n",
    "print(test_sum.shape)"
   ]
  },
  {
   "cell_type": "code",
   "execution_count": 7,
   "metadata": {},
   "outputs": [
    {
     "name": "stdout",
     "output_type": "stream",
     "text": [
      "3    1331\n",
      "2    1199\n",
      "1    1113\n",
      "Name: Class, dtype: int64\n",
      "3    1273\n",
      "2     997\n",
      "1     813\n",
      "Name: Class, dtype: int64\n"
     ]
    }
   ],
   "source": [
    "print(train_sum['Class'].value_counts())\n",
    "print(test_sum['Class'].value_counts())"
   ]
  },
  {
   "cell_type": "code",
   "execution_count": 10,
   "metadata": {},
   "outputs": [
    {
     "name": "stdout",
     "output_type": "stream",
     "text": [
      "(2312, 13)\n"
     ]
    }
   ],
   "source": [
    "train_agg = train_sum[train_sum['Class'] == 1]\n",
    "train_norm = train_sum[train_sum['Class'] == 2]\n",
    "\n",
    "train_agg_norm = pd.concat([train_agg, train_norm])\n",
    "print(train_agg_norm.shape)"
   ]
  },
  {
   "cell_type": "code",
   "execution_count": 12,
   "metadata": {},
   "outputs": [
    {
     "name": "stdout",
     "output_type": "stream",
     "text": [
      "(1810, 13)\n"
     ]
    }
   ],
   "source": [
    "test_agg = test_sum[test_sum['Class'] == 1]\n",
    "test_norm = test_sum[test_sum['Class'] == 2]\n",
    "test_agg_norm = pd.concat([test_agg, test_norm])\n",
    "print(test_agg_norm.shape)"
   ]
  },
  {
   "cell_type": "code",
   "execution_count": 13,
   "metadata": {},
   "outputs": [
    {
     "name": "stdout",
     "output_type": "stream",
     "text": [
      "Index(['AccX', 'AccY', 'AccZ', 'GyroX', 'GyroY', 'GyroZ', 'AccMagnitude',\n",
      "       'GyroMagnitude', 'JerkX', 'JerkY', 'JerkZ', 'JerkMagnitude', 'Class'],\n",
      "      dtype='object')\n"
     ]
    }
   ],
   "source": [
    "print(train_agg_norm.columns)"
   ]
  },
  {
   "cell_type": "code",
   "execution_count": 15,
   "metadata": {},
   "outputs": [
    {
     "data": {
      "text/plain": [
       "(2312, 12)"
      ]
     },
     "execution_count": 15,
     "metadata": {},
     "output_type": "execute_result"
    }
   ],
   "source": [
    "X_train_agg_norm = train_agg_norm[['AccX', 'AccY', 'AccZ', 'GyroX', 'GyroY', 'GyroZ', 'AccMagnitude', 'GyroMagnitude', 'JerkX', 'JerkY', 'JerkZ', 'JerkMagnitude']]\n",
    "X_train_agg_norm.shape"
   ]
  },
  {
   "cell_type": "code",
   "execution_count": 16,
   "metadata": {},
   "outputs": [
    {
     "name": "stdout",
     "output_type": "stream",
     "text": [
      "(2312, 1)\n"
     ]
    }
   ],
   "source": [
    "y_train_agg_norm = train_agg_norm[['Class']]\n",
    "print(y_train_agg_norm.shape)"
   ]
  },
  {
   "cell_type": "code",
   "execution_count": 17,
   "metadata": {},
   "outputs": [
    {
     "data": {
      "text/plain": [
       "(1810, 12)"
      ]
     },
     "execution_count": 17,
     "metadata": {},
     "output_type": "execute_result"
    }
   ],
   "source": [
    "X_test_agg_norm = test_agg_norm[['AccX', 'AccY', 'AccZ', 'GyroX', 'GyroY', 'GyroZ', 'AccMagnitude', 'GyroMagnitude', 'JerkX', 'JerkY', 'JerkZ', 'JerkMagnitude']]\n",
    "X_test_agg_norm.shape"
   ]
  },
  {
   "cell_type": "code",
   "execution_count": 18,
   "metadata": {},
   "outputs": [
    {
     "name": "stdout",
     "output_type": "stream",
     "text": [
      "(1810, 1)\n"
     ]
    }
   ],
   "source": [
    "y_test_agg_norm = test_agg_norm[['Class']]\n",
    "print(y_test_agg_norm.shape)"
   ]
  },
  {
   "cell_type": "code",
   "execution_count": 20,
   "metadata": {},
   "outputs": [
    {
     "name": "stdout",
     "output_type": "stream",
     "text": [
      "(1810, 12)\n",
      "(1810, 1)\n"
     ]
    }
   ],
   "source": [
    "X_train = X_train_agg_norm\n",
    "y_train = y_train_agg_norm\n",
    "X_test = X_test_agg_norm\n",
    "y_test = y_test_agg_norm\n",
    "print(X_test.shape)\n",
    "print(y_test.shape)"
   ]
  },
  {
   "cell_type": "code",
   "execution_count": 21,
   "metadata": {},
   "outputs": [
    {
     "name": "stderr",
     "output_type": "stream",
     "text": [
      "c:\\Users\\MILAB\\Anaconda3\\envs\\torchpy37\\lib\\site-packages\\sklearn\\utils\\validation.py:993: DataConversionWarning: A column-vector y was passed when a 1d array was expected. Please change the shape of y to (n_samples, ), for example using ravel().\n",
      "  y = column_or_1d(y, warn=True)\n"
     ]
    },
    {
     "data": {
      "text/plain": [
       "LogisticRegression(C=100.0, max_iter=200, multi_class='ovr', random_state=17)"
      ]
     },
     "execution_count": 21,
     "metadata": {},
     "output_type": "execute_result"
    }
   ],
   "source": [
    "from sklearn.linear_model import LogisticRegression\n",
    "Logit = LogisticRegression(C=1e2,\n",
    "                          multi_class='ovr',\n",
    "                          random_state=17,\n",
    "                          max_iter=200\n",
    "                          )\n",
    "Logit.fit(X_train, y_train)"
   ]
  },
  {
   "cell_type": "code",
   "execution_count": 22,
   "metadata": {},
   "outputs": [
    {
     "name": "stdout",
     "output_type": "stream",
     "text": [
      "[2 1 1 1 1]\n",
      "[[0.44981607 0.55018393]\n",
      " [0.98956277 0.01043723]\n",
      " [0.99533143 0.00466857]\n",
      " [0.99292127 0.00707873]\n",
      " [0.73266522 0.26733478]]\n"
     ]
    }
   ],
   "source": [
    "y_test_pred = Logit.predict(X_test)\n",
    "y_test_pred_proba = Logit.predict_proba(X_test)\n",
    "print(y_test_pred[:5])\n",
    "print(y_test_pred_proba[:5])"
   ]
  },
  {
   "cell_type": "code",
   "execution_count": 23,
   "metadata": {},
   "outputs": [
    {
     "name": "stdout",
     "output_type": "stream",
     "text": [
      "0.5994475138121547\n",
      "[[405 408]\n",
      " [317 680]]\n",
      "              precision    recall  f1-score   support\n",
      "\n",
      "           1     0.5609    0.4982    0.5277       813\n",
      "           2     0.6250    0.6820    0.6523       997\n",
      "\n",
      "    accuracy                         0.5994      1810\n",
      "   macro avg     0.5930    0.5901    0.5900      1810\n",
      "weighted avg     0.5962    0.5994    0.5963      1810\n",
      "\n"
     ]
    }
   ],
   "source": [
    "from sklearn.metrics import accuracy_score\n",
    "from sklearn.metrics import confusion_matrix\n",
    "from sklearn.metrics import classification_report\n",
    "\n",
    "print(accuracy_score(y_test, y_test_pred))\n",
    "print(confusion_matrix(y_test, y_test_pred))\n",
    "print(classification_report(y_test, y_test_pred, digits=4))"
   ]
  },
  {
   "cell_type": "code",
   "execution_count": 24,
   "metadata": {},
   "outputs": [
    {
     "name": "stderr",
     "output_type": "stream",
     "text": [
      "c:\\Users\\MILAB\\Anaconda3\\envs\\torchpy37\\lib\\site-packages\\sklearn\\neural_network\\_multilayer_perceptron.py:1109: DataConversionWarning: A column-vector y was passed when a 1d array was expected. Please change the shape of y to (n_samples, ), for example using ravel().\n",
      "  y = column_or_1d(y, warn=True)\n"
     ]
    }
   ],
   "source": [
    "### 3. MLP Classifier\n",
    "\n",
    "from sklearn.neural_network import MLPClassifier\n",
    "clf = MLPClassifier(random_state=17, max_iter=1000).fit(X_train, y_train)"
   ]
  },
  {
   "cell_type": "code",
   "execution_count": 25,
   "metadata": {},
   "outputs": [
    {
     "name": "stdout",
     "output_type": "stream",
     "text": [
      "0.6022099447513812\n",
      "[[460 353]\n",
      " [367 630]]\n",
      "              precision    recall  f1-score   support\n",
      "\n",
      "           1     0.5562    0.5658    0.5610       813\n",
      "           2     0.6409    0.6319    0.6364       997\n",
      "\n",
      "    accuracy                         0.6022      1810\n",
      "   macro avg     0.5986    0.5989    0.5987      1810\n",
      "weighted avg     0.6029    0.6022    0.6025      1810\n",
      "\n"
     ]
    }
   ],
   "source": [
    "y_test_pred = clf.predict(X_test)\n",
    "print(accuracy_score(y_test, y_test_pred))\n",
    "print(confusion_matrix(y_test, y_test_pred))\n",
    "print(classification_report(y_test, y_test_pred, digits=4))"
   ]
  },
  {
   "cell_type": "code",
   "execution_count": 26,
   "metadata": {},
   "outputs": [
    {
     "name": "stderr",
     "output_type": "stream",
     "text": [
      "c:\\Users\\MILAB\\Anaconda3\\envs\\torchpy37\\lib\\site-packages\\sklearn\\neighbors\\_classification.py:198: DataConversionWarning: A column-vector y was passed when a 1d array was expected. Please change the shape of y to (n_samples,), for example using ravel().\n",
      "  return self._fit(X, y)\n"
     ]
    },
    {
     "data": {
      "text/plain": [
       "KNeighborsClassifier()"
      ]
     },
     "execution_count": 26,
     "metadata": {},
     "output_type": "execute_result"
    }
   ],
   "source": [
    "### 4. KNN\n",
    "\n",
    "from sklearn.neighbors import KNeighborsClassifier\n",
    "\n",
    "# 5개 근접한 이웃, 거리측정기준 : 유클리드\n",
    "knn = KNeighborsClassifier(n_neighbors=5, p=2)\n",
    "\n",
    "# Model Fitting 과정\n",
    "knn.fit(X_train, y_train)"
   ]
  },
  {
   "cell_type": "code",
   "execution_count": 27,
   "metadata": {},
   "outputs": [
    {
     "name": "stdout",
     "output_type": "stream",
     "text": [
      "0.5773480662983426\n",
      "[[387 426]\n",
      " [339 658]]\n",
      "              precision    recall  f1-score   support\n",
      "\n",
      "           1     0.5331    0.4760    0.5029       813\n",
      "           2     0.6070    0.6600    0.6324       997\n",
      "\n",
      "    accuracy                         0.5773      1810\n",
      "   macro avg     0.5700    0.5680    0.5677      1810\n",
      "weighted avg     0.5738    0.5773    0.5742      1810\n",
      "\n"
     ]
    }
   ],
   "source": [
    "y_test_pred = knn.predict(X_test)\n",
    "print(accuracy_score(y_test, y_test_pred))\n",
    "print(confusion_matrix(y_test, y_test_pred))\n",
    "print(classification_report(y_test, y_test_pred, digits=4))"
   ]
  },
  {
   "cell_type": "code",
   "execution_count": 28,
   "metadata": {},
   "outputs": [
    {
     "name": "stderr",
     "output_type": "stream",
     "text": [
      "c:\\Users\\MILAB\\Anaconda3\\envs\\torchpy37\\lib\\site-packages\\ipykernel_launcher.py:6: DataConversionWarning: A column-vector y was passed when a 1d array was expected. Please change the shape of y to (n_samples,), for example using ravel().\n",
      "  \n"
     ]
    },
    {
     "data": {
      "text/plain": [
       "RandomForestClassifier(n_estimators=5, random_state=17)"
      ]
     },
     "execution_count": 28,
     "metadata": {},
     "output_type": "execute_result"
    }
   ],
   "source": [
    "### 5. Random Forest\n",
    "\n",
    "from sklearn.ensemble import RandomForestClassifier\n",
    "\n",
    "rf_model = RandomForestClassifier(n_estimators=5, random_state=17)\n",
    "rf_model.fit(X_train, y_train)"
   ]
  },
  {
   "cell_type": "code",
   "execution_count": 29,
   "metadata": {},
   "outputs": [
    {
     "name": "stdout",
     "output_type": "stream",
     "text": [
      "0.5701657458563536\n",
      "[[440 373]\n",
      " [405 592]]\n",
      "              precision    recall  f1-score   support\n",
      "\n",
      "           1     0.5207    0.5412    0.5308       813\n",
      "           2     0.6135    0.5938    0.6035       997\n",
      "\n",
      "    accuracy                         0.5702      1810\n",
      "   macro avg     0.5671    0.5675    0.5671      1810\n",
      "weighted avg     0.5718    0.5702    0.5708      1810\n",
      "\n"
     ]
    }
   ],
   "source": [
    "y_test_pred = rf_model.predict(X_test)\n",
    "print(accuracy_score(y_test, y_test_pred))\n",
    "print(confusion_matrix(y_test, y_test_pred))\n",
    "print(classification_report(y_test, y_test_pred, digits=4))"
   ]
  },
  {
   "cell_type": "code",
   "execution_count": 30,
   "metadata": {},
   "outputs": [
    {
     "data": {
      "text/plain": [
       "DecisionTreeClassifier(random_state=17)"
      ]
     },
     "execution_count": 30,
     "metadata": {},
     "output_type": "execute_result"
    }
   ],
   "source": [
    "### 6. Decision Tree\n",
    "from sklearn.tree import DecisionTreeClassifier\n",
    "DT_MODEL= DecisionTreeClassifier(random_state=17)\n",
    "DT_MODEL.fit(X_train, y_train)"
   ]
  },
  {
   "cell_type": "code",
   "execution_count": 31,
   "metadata": {},
   "outputs": [
    {
     "name": "stdout",
     "output_type": "stream",
     "text": [
      "0.5425414364640884\n",
      "[[419 394]\n",
      " [434 563]]\n",
      "              precision    recall  f1-score   support\n",
      "\n",
      "           1     0.4912    0.5154    0.5030       813\n",
      "           2     0.5883    0.5647    0.5763       997\n",
      "\n",
      "    accuracy                         0.5425      1810\n",
      "   macro avg     0.5398    0.5400    0.5396      1810\n",
      "weighted avg     0.5447    0.5425    0.5434      1810\n",
      "\n"
     ]
    }
   ],
   "source": [
    "y_test_pred = DT_MODEL.predict(X_test)\n",
    "print(accuracy_score(y_test, y_test_pred))\n",
    "print(confusion_matrix(y_test, y_test_pred))\n",
    "print(classification_report(y_test, y_test_pred, digits=4))"
   ]
  },
  {
   "cell_type": "code",
   "execution_count": 32,
   "metadata": {},
   "outputs": [],
   "source": [
    "from xgboost import XGBClassifier\n",
    "from xgboost import plot_importance\n",
    "from sklearn.model_selection import train_test_split\n",
    "from sklearn.metrics import accuracy_score, confusion_matrix, classification_report\n",
    "import pandas as pd"
   ]
  },
  {
   "cell_type": "code",
   "execution_count": 33,
   "metadata": {},
   "outputs": [
    {
     "name": "stderr",
     "output_type": "stream",
     "text": [
      "c:\\Users\\MILAB\\Anaconda3\\envs\\torchpy37\\lib\\site-packages\\sklearn\\preprocessing\\_label.py:115: DataConversionWarning: A column-vector y was passed when a 1d array was expected. Please change the shape of y to (n_samples, ), for example using ravel().\n",
      "  y = column_or_1d(y, warn=True)\n"
     ]
    }
   ],
   "source": [
    "from sklearn.preprocessing import LabelEncoder\n",
    "le = LabelEncoder()\n",
    "y_train_xgb = le.fit_transform(y_train)\n",
    "le = LabelEncoder()\n",
    "y_test_xgb = le.fit_transform(y_test)"
   ]
  },
  {
   "cell_type": "code",
   "execution_count": 34,
   "metadata": {},
   "outputs": [
    {
     "data": {
      "text/plain": [
       "XGBClassifier(base_score=0.5, booster='gbtree', callbacks=None,\n",
       "              colsample_bylevel=1, colsample_bynode=1, colsample_bytree=1,\n",
       "              early_stopping_rounds=None, enable_categorical=False,\n",
       "              eval_metric=None, gamma=0, gpu_id=-1, grow_policy='depthwise',\n",
       "              importance_type=None, interaction_constraints='',\n",
       "              learning_rate=0.300000012, max_bin=256, max_cat_to_onehot=4,\n",
       "              max_delta_step=0, max_depth=6, max_leaves=0, min_child_weight=1,\n",
       "              missing=nan, monotone_constraints='()', n_estimators=100,\n",
       "              n_jobs=0, num_parallel_tree=1, predictor='auto', random_state=0,\n",
       "              reg_alpha=0, reg_lambda=1, ...)"
      ]
     },
     "execution_count": 34,
     "metadata": {},
     "output_type": "execute_result"
    }
   ],
   "source": [
    "xgb_class = XGBClassifier()\n",
    "xgb_class.fit(X_train, y_train_xgb)"
   ]
  },
  {
   "cell_type": "code",
   "execution_count": 35,
   "metadata": {},
   "outputs": [
    {
     "name": "stdout",
     "output_type": "stream",
     "text": [
      "0.5806629834254143\n",
      "[[461 352]\n",
      " [407 590]]\n",
      "              precision    recall  f1-score   support\n",
      "\n",
      "           0     0.5311    0.5670    0.5485       813\n",
      "           1     0.6263    0.5918    0.6086       997\n",
      "\n",
      "    accuracy                         0.5807      1810\n",
      "   macro avg     0.5787    0.5794    0.5785      1810\n",
      "weighted avg     0.5836    0.5807    0.5816      1810\n",
      "\n"
     ]
    }
   ],
   "source": [
    "y_test_pred = xgb_class.predict(X_test)\n",
    "print(accuracy_score(y_test_xgb, y_test_pred))\n",
    "print(confusion_matrix(y_test_xgb, y_test_pred))\n",
    "print(classification_report(y_test_xgb, y_test_pred, digits=4))"
   ]
  },
  {
   "cell_type": "code",
   "execution_count": 36,
   "metadata": {},
   "outputs": [
    {
     "name": "stderr",
     "output_type": "stream",
     "text": [
      "c:\\Users\\MILAB\\Anaconda3\\envs\\torchpy37\\lib\\site-packages\\sklearn\\preprocessing\\_label.py:98: DataConversionWarning: A column-vector y was passed when a 1d array was expected. Please change the shape of y to (n_samples, ), for example using ravel().\n",
      "  y = column_or_1d(y, warn=True)\n",
      "c:\\Users\\MILAB\\Anaconda3\\envs\\torchpy37\\lib\\site-packages\\sklearn\\preprocessing\\_label.py:133: DataConversionWarning: A column-vector y was passed when a 1d array was expected. Please change the shape of y to (n_samples, ), for example using ravel().\n",
      "  y = column_or_1d(y, warn=True)\n"
     ]
    },
    {
     "data": {
      "text/plain": [
       "LGBMClassifier()"
      ]
     },
     "execution_count": 36,
     "metadata": {},
     "output_type": "execute_result"
    }
   ],
   "source": [
    "### 8. LightGBM\n",
    "from lightgbm import LGBMClassifier\n",
    "lgbm_class = LGBMClassifier()\n",
    "lgbm_class.fit(X_train, y_train)"
   ]
  },
  {
   "cell_type": "code",
   "execution_count": 37,
   "metadata": {},
   "outputs": [
    {
     "name": "stdout",
     "output_type": "stream",
     "text": [
      "0.6027624309392265\n",
      "[[458 355]\n",
      " [364 633]]\n",
      "              precision    recall  f1-score   support\n",
      "\n",
      "           1     0.5572    0.5633    0.5602       813\n",
      "           2     0.6407    0.6349    0.6378       997\n",
      "\n",
      "    accuracy                         0.6028      1810\n",
      "   macro avg     0.5989    0.5991    0.5990      1810\n",
      "weighted avg     0.6032    0.6028    0.6030      1810\n",
      "\n"
     ]
    }
   ],
   "source": [
    "y_test_pred =lgbm_class.predict(X_test)\n",
    "print(accuracy_score(y_test, y_test_pred))\n",
    "print(confusion_matrix(y_test, y_test_pred))\n",
    "print(classification_report(y_test, y_test_pred, digits=4))"
   ]
  },
  {
   "cell_type": "code",
   "execution_count": 38,
   "metadata": {},
   "outputs": [
    {
     "name": "stderr",
     "output_type": "stream",
     "text": [
      "c:\\Users\\MILAB\\Anaconda3\\envs\\torchpy37\\lib\\site-packages\\sklearn\\preprocessing\\_label.py:98: DataConversionWarning: A column-vector y was passed when a 1d array was expected. Please change the shape of y to (n_samples, ), for example using ravel().\n",
      "  y = column_or_1d(y, warn=True)\n",
      "c:\\Users\\MILAB\\Anaconda3\\envs\\torchpy37\\lib\\site-packages\\sklearn\\preprocessing\\_label.py:133: DataConversionWarning: A column-vector y was passed when a 1d array was expected. Please change the shape of y to (n_samples, ), for example using ravel().\n",
      "  y = column_or_1d(y, warn=True)\n"
     ]
    },
    {
     "data": {
      "text/plain": [
       "GridSearchCV(cv=5, estimator=LGBMClassifier(), n_jobs=-1,\n",
       "             param_grid={'learning_rate': [0.01, 0.05, 0.1],\n",
       "                         'max_depth': [5, 10, 15],\n",
       "                         'n_estimators': [100, 200, 500],\n",
       "                         'num_leaves': [31, 50, 70]},\n",
       "             scoring='accuracy')"
      ]
     },
     "execution_count": 38,
     "metadata": {},
     "output_type": "execute_result"
    }
   ],
   "source": [
    "# LightGBM Classifier 초기화\n",
    "lgbm = LGBMClassifier()\n",
    "\n",
    "# 하이퍼파라미터 그리드 설정\n",
    "param_grid = {\n",
    "    'num_leaves': [31, 50, 70],\n",
    "    'learning_rate': [0.01, 0.05, 0.1],\n",
    "    'n_estimators': [100, 200, 500],\n",
    "    'max_depth': [5, 10, 15]\n",
    "}\n",
    "\n",
    "# GridSearchCV 설정\n",
    "grid_search = GridSearchCV(estimator=lgbm, param_grid=param_grid, cv=5, scoring='accuracy', n_jobs=-1)\n",
    "\n",
    "# 최적의 하이퍼파라미터 찾기\n",
    "grid_search.fit(X_train, y_train)"
   ]
  },
  {
   "cell_type": "code",
   "execution_count": 39,
   "metadata": {},
   "outputs": [
    {
     "name": "stdout",
     "output_type": "stream",
     "text": [
      "최적의 하이퍼파라미터:\n",
      "{'learning_rate': 0.05, 'max_depth': 5, 'n_estimators': 100, 'num_leaves': 31}\n",
      "0.6027624309392265\n",
      "[[458 355]\n",
      " [364 633]]\n",
      "              precision    recall  f1-score   support\n",
      "\n",
      "           1     0.5572    0.5633    0.5602       813\n",
      "           2     0.6407    0.6349    0.6378       997\n",
      "\n",
      "    accuracy                         0.6028      1810\n",
      "   macro avg     0.5989    0.5991    0.5990      1810\n",
      "weighted avg     0.6032    0.6028    0.6030      1810\n",
      "\n"
     ]
    }
   ],
   "source": [
    "# 최적의 하이퍼파라미터 출력\n",
    "print(\"최적의 하이퍼파라미터:\")\n",
    "print(grid_search.best_params_)\n",
    "\n",
    "# 최적의 하이퍼파라미터로 모델 구축\n",
    "best_lgbm = grid_search.best_estimator_\n",
    "\n",
    "# 예측 수행\n",
    "y_pred = best_lgbm.predict(X_test)\n",
    "print(accuracy_score(y_test, y_test_pred))\n",
    "print(confusion_matrix(y_test, y_test_pred))\n",
    "print(classification_report(y_test, y_test_pred, digits=4))"
   ]
  },
  {
   "cell_type": "code",
   "execution_count": 40,
   "metadata": {},
   "outputs": [
    {
     "name": "stdout",
     "output_type": "stream",
     "text": [
      "Learning rate set to 0.014735\n",
      "0:\tlearn: 0.6920241\ttotal: 136ms\tremaining: 2m 16s\n",
      "1:\tlearn: 0.6909194\ttotal: 139ms\tremaining: 1m 9s\n",
      "2:\tlearn: 0.6894336\ttotal: 142ms\tremaining: 47.2s\n",
      "3:\tlearn: 0.6880581\ttotal: 148ms\tremaining: 36.7s\n",
      "4:\tlearn: 0.6870569\ttotal: 150ms\tremaining: 29.9s\n",
      "5:\tlearn: 0.6857350\ttotal: 192ms\tremaining: 31.8s\n",
      "6:\tlearn: 0.6844795\ttotal: 203ms\tremaining: 28.8s\n",
      "7:\tlearn: 0.6834104\ttotal: 213ms\tremaining: 26.4s\n",
      "8:\tlearn: 0.6821545\ttotal: 220ms\tremaining: 24.2s\n",
      "9:\tlearn: 0.6811378\ttotal: 229ms\tremaining: 22.6s\n",
      "10:\tlearn: 0.6803166\ttotal: 234ms\tremaining: 21.1s\n",
      "11:\tlearn: 0.6793821\ttotal: 238ms\tremaining: 19.6s\n",
      "12:\tlearn: 0.6784177\ttotal: 240ms\tremaining: 18.3s\n",
      "13:\tlearn: 0.6770403\ttotal: 243ms\tremaining: 17.1s\n",
      "14:\tlearn: 0.6761029\ttotal: 247ms\tremaining: 16.2s\n",
      "15:\tlearn: 0.6749545\ttotal: 252ms\tremaining: 15.5s\n",
      "16:\tlearn: 0.6737111\ttotal: 256ms\tremaining: 14.8s\n",
      "17:\tlearn: 0.6728317\ttotal: 259ms\tremaining: 14.1s\n",
      "18:\tlearn: 0.6716105\ttotal: 261ms\tremaining: 13.5s\n",
      "19:\tlearn: 0.6708334\ttotal: 264ms\tremaining: 12.9s\n",
      "20:\tlearn: 0.6692994\ttotal: 268ms\tremaining: 12.5s\n",
      "21:\tlearn: 0.6682613\ttotal: 271ms\tremaining: 12s\n",
      "22:\tlearn: 0.6672840\ttotal: 273ms\tremaining: 11.6s\n",
      "23:\tlearn: 0.6662956\ttotal: 276ms\tremaining: 11.2s\n",
      "24:\tlearn: 0.6651971\ttotal: 279ms\tremaining: 10.9s\n",
      "25:\tlearn: 0.6642170\ttotal: 281ms\tremaining: 10.5s\n",
      "26:\tlearn: 0.6632388\ttotal: 284ms\tremaining: 10.2s\n",
      "27:\tlearn: 0.6623919\ttotal: 288ms\tremaining: 9.98s\n",
      "28:\tlearn: 0.6615152\ttotal: 290ms\tremaining: 9.72s\n",
      "29:\tlearn: 0.6606120\ttotal: 294ms\tremaining: 9.52s\n",
      "30:\tlearn: 0.6596967\ttotal: 301ms\tremaining: 9.42s\n",
      "31:\tlearn: 0.6589267\ttotal: 305ms\tremaining: 9.21s\n",
      "32:\tlearn: 0.6580657\ttotal: 310ms\tremaining: 9.08s\n",
      "33:\tlearn: 0.6574491\ttotal: 313ms\tremaining: 8.89s\n",
      "34:\tlearn: 0.6565502\ttotal: 319ms\tremaining: 8.8s\n",
      "35:\tlearn: 0.6557716\ttotal: 322ms\tremaining: 8.63s\n",
      "36:\tlearn: 0.6549569\ttotal: 326ms\tremaining: 8.47s\n",
      "37:\tlearn: 0.6543320\ttotal: 333ms\tremaining: 8.43s\n",
      "38:\tlearn: 0.6535471\ttotal: 338ms\tremaining: 8.34s\n",
      "39:\tlearn: 0.6526746\ttotal: 341ms\tremaining: 8.18s\n",
      "40:\tlearn: 0.6517955\ttotal: 348ms\tremaining: 8.13s\n",
      "41:\tlearn: 0.6511146\ttotal: 354ms\tremaining: 8.07s\n",
      "42:\tlearn: 0.6505830\ttotal: 360ms\tremaining: 8.01s\n",
      "43:\tlearn: 0.6495967\ttotal: 362ms\tremaining: 7.87s\n",
      "44:\tlearn: 0.6490399\ttotal: 365ms\tremaining: 7.74s\n",
      "45:\tlearn: 0.6483385\ttotal: 367ms\tremaining: 7.61s\n",
      "46:\tlearn: 0.6473077\ttotal: 369ms\tremaining: 7.48s\n",
      "47:\tlearn: 0.6466181\ttotal: 372ms\tremaining: 7.38s\n",
      "48:\tlearn: 0.6458605\ttotal: 376ms\tremaining: 7.29s\n",
      "49:\tlearn: 0.6451620\ttotal: 379ms\tremaining: 7.19s\n",
      "50:\tlearn: 0.6445348\ttotal: 381ms\tremaining: 7.08s\n",
      "51:\tlearn: 0.6438107\ttotal: 383ms\tremaining: 6.97s\n",
      "52:\tlearn: 0.6432086\ttotal: 385ms\tremaining: 6.87s\n",
      "53:\tlearn: 0.6425476\ttotal: 386ms\tremaining: 6.77s\n",
      "54:\tlearn: 0.6419801\ttotal: 393ms\tremaining: 6.76s\n",
      "55:\tlearn: 0.6412791\ttotal: 395ms\tremaining: 6.66s\n",
      "56:\tlearn: 0.6405922\ttotal: 397ms\tremaining: 6.57s\n",
      "57:\tlearn: 0.6397828\ttotal: 399ms\tremaining: 6.48s\n",
      "58:\tlearn: 0.6392128\ttotal: 401ms\tremaining: 6.39s\n",
      "59:\tlearn: 0.6386581\ttotal: 403ms\tremaining: 6.31s\n",
      "60:\tlearn: 0.6380910\ttotal: 406ms\tremaining: 6.25s\n",
      "61:\tlearn: 0.6373472\ttotal: 410ms\tremaining: 6.2s\n",
      "62:\tlearn: 0.6368602\ttotal: 412ms\tremaining: 6.13s\n",
      "63:\tlearn: 0.6362602\ttotal: 414ms\tremaining: 6.05s\n",
      "64:\tlearn: 0.6354632\ttotal: 416ms\tremaining: 5.98s\n",
      "65:\tlearn: 0.6345951\ttotal: 418ms\tremaining: 5.92s\n",
      "66:\tlearn: 0.6339683\ttotal: 421ms\tremaining: 5.86s\n",
      "67:\tlearn: 0.6335365\ttotal: 423ms\tremaining: 5.79s\n",
      "68:\tlearn: 0.6330491\ttotal: 425ms\tremaining: 5.73s\n",
      "69:\tlearn: 0.6323271\ttotal: 426ms\tremaining: 5.66s\n",
      "70:\tlearn: 0.6316876\ttotal: 428ms\tremaining: 5.6s\n",
      "71:\tlearn: 0.6311737\ttotal: 430ms\tremaining: 5.54s\n",
      "72:\tlearn: 0.6306133\ttotal: 433ms\tremaining: 5.5s\n",
      "73:\tlearn: 0.6300484\ttotal: 437ms\tremaining: 5.46s\n",
      "74:\tlearn: 0.6295603\ttotal: 439ms\tremaining: 5.42s\n",
      "75:\tlearn: 0.6290269\ttotal: 441ms\tremaining: 5.36s\n",
      "76:\tlearn: 0.6284801\ttotal: 444ms\tremaining: 5.32s\n",
      "77:\tlearn: 0.6279240\ttotal: 446ms\tremaining: 5.27s\n",
      "78:\tlearn: 0.6273805\ttotal: 448ms\tremaining: 5.22s\n",
      "79:\tlearn: 0.6268372\ttotal: 451ms\tremaining: 5.19s\n",
      "80:\tlearn: 0.6261667\ttotal: 453ms\tremaining: 5.14s\n",
      "81:\tlearn: 0.6253998\ttotal: 455ms\tremaining: 5.09s\n",
      "82:\tlearn: 0.6249559\ttotal: 457ms\tremaining: 5.04s\n",
      "83:\tlearn: 0.6245263\ttotal: 459ms\tremaining: 5.01s\n",
      "84:\tlearn: 0.6238072\ttotal: 462ms\tremaining: 4.97s\n",
      "85:\tlearn: 0.6232976\ttotal: 466ms\tremaining: 4.95s\n",
      "86:\tlearn: 0.6227287\ttotal: 469ms\tremaining: 4.92s\n",
      "87:\tlearn: 0.6221532\ttotal: 471ms\tremaining: 4.88s\n",
      "88:\tlearn: 0.6214531\ttotal: 473ms\tremaining: 4.84s\n",
      "89:\tlearn: 0.6208773\ttotal: 474ms\tremaining: 4.8s\n",
      "90:\tlearn: 0.6202756\ttotal: 476ms\tremaining: 4.76s\n",
      "91:\tlearn: 0.6197930\ttotal: 479ms\tremaining: 4.73s\n",
      "92:\tlearn: 0.6190367\ttotal: 484ms\tremaining: 4.72s\n",
      "93:\tlearn: 0.6187291\ttotal: 486ms\tremaining: 4.68s\n",
      "94:\tlearn: 0.6180867\ttotal: 488ms\tremaining: 4.65s\n",
      "95:\tlearn: 0.6173961\ttotal: 490ms\tremaining: 4.62s\n",
      "96:\tlearn: 0.6167718\ttotal: 494ms\tremaining: 4.59s\n",
      "97:\tlearn: 0.6160986\ttotal: 497ms\tremaining: 4.58s\n",
      "98:\tlearn: 0.6157103\ttotal: 499ms\tremaining: 4.54s\n",
      "99:\tlearn: 0.6152645\ttotal: 501ms\tremaining: 4.51s\n",
      "100:\tlearn: 0.6147350\ttotal: 504ms\tremaining: 4.49s\n",
      "101:\tlearn: 0.6143763\ttotal: 506ms\tremaining: 4.45s\n",
      "102:\tlearn: 0.6138008\ttotal: 514ms\tremaining: 4.47s\n",
      "103:\tlearn: 0.6133207\ttotal: 516ms\tremaining: 4.45s\n",
      "104:\tlearn: 0.6129347\ttotal: 519ms\tremaining: 4.42s\n",
      "105:\tlearn: 0.6124023\ttotal: 521ms\tremaining: 4.39s\n",
      "106:\tlearn: 0.6120477\ttotal: 525ms\tremaining: 4.38s\n",
      "107:\tlearn: 0.6114720\ttotal: 529ms\tremaining: 4.37s\n",
      "108:\tlearn: 0.6110344\ttotal: 532ms\tremaining: 4.34s\n",
      "109:\tlearn: 0.6105801\ttotal: 534ms\tremaining: 4.32s\n",
      "110:\tlearn: 0.6101797\ttotal: 536ms\tremaining: 4.29s\n",
      "111:\tlearn: 0.6096679\ttotal: 542ms\tremaining: 4.3s\n",
      "112:\tlearn: 0.6092697\ttotal: 545ms\tremaining: 4.28s\n",
      "113:\tlearn: 0.6087412\ttotal: 550ms\tremaining: 4.28s\n",
      "114:\tlearn: 0.6081517\ttotal: 558ms\tremaining: 4.3s\n",
      "115:\tlearn: 0.6076081\ttotal: 561ms\tremaining: 4.28s\n",
      "116:\tlearn: 0.6072080\ttotal: 566ms\tremaining: 4.27s\n",
      "117:\tlearn: 0.6065778\ttotal: 573ms\tremaining: 4.28s\n",
      "118:\tlearn: 0.6062396\ttotal: 577ms\tremaining: 4.27s\n",
      "119:\tlearn: 0.6058404\ttotal: 579ms\tremaining: 4.25s\n",
      "120:\tlearn: 0.6055663\ttotal: 581ms\tremaining: 4.22s\n",
      "121:\tlearn: 0.6051969\ttotal: 586ms\tremaining: 4.22s\n",
      "122:\tlearn: 0.6047699\ttotal: 588ms\tremaining: 4.2s\n",
      "123:\tlearn: 0.6040892\ttotal: 591ms\tremaining: 4.17s\n",
      "124:\tlearn: 0.6037811\ttotal: 593ms\tremaining: 4.15s\n",
      "125:\tlearn: 0.6032172\ttotal: 595ms\tremaining: 4.13s\n",
      "126:\tlearn: 0.6027053\ttotal: 600ms\tremaining: 4.13s\n",
      "127:\tlearn: 0.6021981\ttotal: 604ms\tremaining: 4.11s\n",
      "128:\tlearn: 0.6018221\ttotal: 606ms\tremaining: 4.09s\n",
      "129:\tlearn: 0.6013157\ttotal: 608ms\tremaining: 4.07s\n",
      "130:\tlearn: 0.6009393\ttotal: 610ms\tremaining: 4.05s\n",
      "131:\tlearn: 0.6003819\ttotal: 615ms\tremaining: 4.05s\n",
      "132:\tlearn: 0.5998573\ttotal: 618ms\tremaining: 4.03s\n",
      "133:\tlearn: 0.5995542\ttotal: 621ms\tremaining: 4.01s\n",
      "134:\tlearn: 0.5991097\ttotal: 623ms\tremaining: 3.99s\n",
      "135:\tlearn: 0.5986341\ttotal: 625ms\tremaining: 3.97s\n",
      "136:\tlearn: 0.5982882\ttotal: 626ms\tremaining: 3.94s\n",
      "137:\tlearn: 0.5978784\ttotal: 631ms\tremaining: 3.94s\n",
      "138:\tlearn: 0.5973824\ttotal: 633ms\tremaining: 3.92s\n",
      "139:\tlearn: 0.5969267\ttotal: 635ms\tremaining: 3.9s\n",
      "140:\tlearn: 0.5965513\ttotal: 637ms\tremaining: 3.88s\n",
      "141:\tlearn: 0.5963270\ttotal: 639ms\tremaining: 3.86s\n",
      "142:\tlearn: 0.5959908\ttotal: 642ms\tremaining: 3.85s\n",
      "143:\tlearn: 0.5954817\ttotal: 647ms\tremaining: 3.84s\n",
      "144:\tlearn: 0.5950626\ttotal: 649ms\tremaining: 3.83s\n",
      "145:\tlearn: 0.5946979\ttotal: 652ms\tremaining: 3.81s\n",
      "146:\tlearn: 0.5943611\ttotal: 655ms\tremaining: 3.8s\n",
      "147:\tlearn: 0.5938448\ttotal: 657ms\tremaining: 3.78s\n",
      "148:\tlearn: 0.5934388\ttotal: 662ms\tremaining: 3.78s\n",
      "149:\tlearn: 0.5930383\ttotal: 665ms\tremaining: 3.77s\n",
      "150:\tlearn: 0.5925317\ttotal: 666ms\tremaining: 3.75s\n",
      "151:\tlearn: 0.5922082\ttotal: 668ms\tremaining: 3.73s\n",
      "152:\tlearn: 0.5918240\ttotal: 670ms\tremaining: 3.71s\n",
      "153:\tlearn: 0.5913696\ttotal: 675ms\tremaining: 3.71s\n",
      "154:\tlearn: 0.5909014\ttotal: 679ms\tremaining: 3.7s\n",
      "155:\tlearn: 0.5906131\ttotal: 682ms\tremaining: 3.69s\n",
      "156:\tlearn: 0.5902975\ttotal: 686ms\tremaining: 3.68s\n",
      "157:\tlearn: 0.5897818\ttotal: 688ms\tremaining: 3.67s\n",
      "158:\tlearn: 0.5895191\ttotal: 692ms\tremaining: 3.66s\n",
      "159:\tlearn: 0.5891307\ttotal: 694ms\tremaining: 3.64s\n",
      "160:\tlearn: 0.5887395\ttotal: 696ms\tremaining: 3.63s\n",
      "161:\tlearn: 0.5883368\ttotal: 698ms\tremaining: 3.61s\n",
      "162:\tlearn: 0.5879833\ttotal: 700ms\tremaining: 3.6s\n",
      "163:\tlearn: 0.5874741\ttotal: 709ms\tremaining: 3.61s\n",
      "164:\tlearn: 0.5872212\ttotal: 713ms\tremaining: 3.61s\n",
      "165:\tlearn: 0.5868715\ttotal: 715ms\tremaining: 3.59s\n",
      "166:\tlearn: 0.5864770\ttotal: 722ms\tremaining: 3.6s\n",
      "167:\tlearn: 0.5860424\ttotal: 726ms\tremaining: 3.6s\n",
      "168:\tlearn: 0.5856271\ttotal: 729ms\tremaining: 3.58s\n",
      "169:\tlearn: 0.5853466\ttotal: 732ms\tremaining: 3.57s\n",
      "170:\tlearn: 0.5850471\ttotal: 737ms\tremaining: 3.57s\n",
      "171:\tlearn: 0.5847126\ttotal: 740ms\tremaining: 3.56s\n",
      "172:\tlearn: 0.5843750\ttotal: 742ms\tremaining: 3.55s\n",
      "173:\tlearn: 0.5840619\ttotal: 744ms\tremaining: 3.53s\n",
      "174:\tlearn: 0.5837270\ttotal: 746ms\tremaining: 3.52s\n",
      "175:\tlearn: 0.5834624\ttotal: 748ms\tremaining: 3.5s\n",
      "176:\tlearn: 0.5831509\ttotal: 754ms\tremaining: 3.5s\n",
      "177:\tlearn: 0.5827474\ttotal: 757ms\tremaining: 3.5s\n",
      "178:\tlearn: 0.5824813\ttotal: 760ms\tremaining: 3.48s\n",
      "179:\tlearn: 0.5819275\ttotal: 761ms\tremaining: 3.47s\n",
      "180:\tlearn: 0.5814959\ttotal: 767ms\tremaining: 3.47s\n",
      "181:\tlearn: 0.5810182\ttotal: 769ms\tremaining: 3.46s\n",
      "182:\tlearn: 0.5804762\ttotal: 772ms\tremaining: 3.44s\n",
      "183:\tlearn: 0.5800636\ttotal: 773ms\tremaining: 3.43s\n",
      "184:\tlearn: 0.5798270\ttotal: 775ms\tremaining: 3.42s\n",
      "185:\tlearn: 0.5795424\ttotal: 779ms\tremaining: 3.41s\n",
      "186:\tlearn: 0.5792157\ttotal: 783ms\tremaining: 3.4s\n",
      "187:\tlearn: 0.5789101\ttotal: 787ms\tremaining: 3.4s\n",
      "188:\tlearn: 0.5786366\ttotal: 790ms\tremaining: 3.39s\n",
      "189:\tlearn: 0.5783147\ttotal: 807ms\tremaining: 3.44s\n",
      "190:\tlearn: 0.5779908\ttotal: 808ms\tremaining: 3.42s\n",
      "191:\tlearn: 0.5776773\ttotal: 814ms\tremaining: 3.43s\n",
      "192:\tlearn: 0.5773454\ttotal: 817ms\tremaining: 3.41s\n",
      "193:\tlearn: 0.5770610\ttotal: 819ms\tremaining: 3.4s\n",
      "194:\tlearn: 0.5766882\ttotal: 822ms\tremaining: 3.39s\n",
      "195:\tlearn: 0.5761699\ttotal: 825ms\tremaining: 3.39s\n",
      "196:\tlearn: 0.5758242\ttotal: 829ms\tremaining: 3.38s\n",
      "197:\tlearn: 0.5755150\ttotal: 831ms\tremaining: 3.37s\n",
      "198:\tlearn: 0.5750113\ttotal: 836ms\tremaining: 3.36s\n",
      "199:\tlearn: 0.5746231\ttotal: 838ms\tremaining: 3.35s\n",
      "200:\tlearn: 0.5743271\ttotal: 845ms\tremaining: 3.36s\n",
      "201:\tlearn: 0.5739989\ttotal: 847ms\tremaining: 3.35s\n",
      "202:\tlearn: 0.5737376\ttotal: 850ms\tremaining: 3.34s\n",
      "203:\tlearn: 0.5734068\ttotal: 852ms\tremaining: 3.32s\n",
      "204:\tlearn: 0.5731539\ttotal: 854ms\tremaining: 3.31s\n",
      "205:\tlearn: 0.5728069\ttotal: 859ms\tremaining: 3.31s\n",
      "206:\tlearn: 0.5723148\ttotal: 862ms\tremaining: 3.3s\n",
      "207:\tlearn: 0.5719151\ttotal: 865ms\tremaining: 3.29s\n",
      "208:\tlearn: 0.5715673\ttotal: 867ms\tremaining: 3.28s\n",
      "209:\tlearn: 0.5712281\ttotal: 869ms\tremaining: 3.27s\n",
      "210:\tlearn: 0.5708066\ttotal: 876ms\tremaining: 3.27s\n",
      "211:\tlearn: 0.5704871\ttotal: 878ms\tremaining: 3.26s\n",
      "212:\tlearn: 0.5701556\ttotal: 880ms\tremaining: 3.25s\n",
      "213:\tlearn: 0.5697337\ttotal: 883ms\tremaining: 3.24s\n",
      "214:\tlearn: 0.5691696\ttotal: 885ms\tremaining: 3.23s\n",
      "215:\tlearn: 0.5687997\ttotal: 891ms\tremaining: 3.23s\n",
      "216:\tlearn: 0.5685972\ttotal: 894ms\tremaining: 3.22s\n",
      "217:\tlearn: 0.5682762\ttotal: 898ms\tremaining: 3.22s\n",
      "218:\tlearn: 0.5679867\ttotal: 901ms\tremaining: 3.21s\n",
      "219:\tlearn: 0.5677428\ttotal: 906ms\tremaining: 3.21s\n",
      "220:\tlearn: 0.5673334\ttotal: 910ms\tremaining: 3.21s\n",
      "221:\tlearn: 0.5667872\ttotal: 913ms\tremaining: 3.2s\n",
      "222:\tlearn: 0.5665886\ttotal: 922ms\tremaining: 3.21s\n",
      "223:\tlearn: 0.5662622\ttotal: 925ms\tremaining: 3.2s\n",
      "224:\tlearn: 0.5659966\ttotal: 928ms\tremaining: 3.19s\n",
      "225:\tlearn: 0.5656654\ttotal: 930ms\tremaining: 3.18s\n",
      "226:\tlearn: 0.5653425\ttotal: 935ms\tremaining: 3.18s\n",
      "227:\tlearn: 0.5649412\ttotal: 938ms\tremaining: 3.18s\n",
      "228:\tlearn: 0.5646277\ttotal: 941ms\tremaining: 3.17s\n",
      "229:\tlearn: 0.5643499\ttotal: 944ms\tremaining: 3.16s\n",
      "230:\tlearn: 0.5639589\ttotal: 946ms\tremaining: 3.15s\n",
      "231:\tlearn: 0.5635779\ttotal: 953ms\tremaining: 3.15s\n",
      "232:\tlearn: 0.5632729\ttotal: 956ms\tremaining: 3.15s\n",
      "233:\tlearn: 0.5629123\ttotal: 958ms\tremaining: 3.14s\n",
      "234:\tlearn: 0.5625149\ttotal: 961ms\tremaining: 3.13s\n",
      "235:\tlearn: 0.5621866\ttotal: 968ms\tremaining: 3.13s\n",
      "236:\tlearn: 0.5618410\ttotal: 972ms\tremaining: 3.13s\n",
      "237:\tlearn: 0.5614896\ttotal: 974ms\tremaining: 3.12s\n",
      "238:\tlearn: 0.5612070\ttotal: 977ms\tremaining: 3.11s\n",
      "239:\tlearn: 0.5609342\ttotal: 984ms\tremaining: 3.12s\n",
      "240:\tlearn: 0.5606618\ttotal: 987ms\tremaining: 3.11s\n",
      "241:\tlearn: 0.5603108\ttotal: 990ms\tremaining: 3.1s\n",
      "242:\tlearn: 0.5599374\ttotal: 992ms\tremaining: 3.09s\n",
      "243:\tlearn: 0.5595083\ttotal: 998ms\tremaining: 3.09s\n",
      "244:\tlearn: 0.5590678\ttotal: 1s\tremaining: 3.08s\n",
      "245:\tlearn: 0.5587537\ttotal: 1s\tremaining: 3.07s\n",
      "246:\tlearn: 0.5586206\ttotal: 1s\tremaining: 3.06s\n",
      "247:\tlearn: 0.5583937\ttotal: 1.01s\tremaining: 3.05s\n",
      "248:\tlearn: 0.5580726\ttotal: 1.01s\tremaining: 3.05s\n",
      "249:\tlearn: 0.5576991\ttotal: 1.02s\tremaining: 3.05s\n",
      "250:\tlearn: 0.5573050\ttotal: 1.02s\tremaining: 3.04s\n",
      "251:\tlearn: 0.5569323\ttotal: 1.02s\tremaining: 3.03s\n",
      "252:\tlearn: 0.5566693\ttotal: 1.02s\tremaining: 3.02s\n",
      "253:\tlearn: 0.5563601\ttotal: 1.03s\tremaining: 3.03s\n",
      "254:\tlearn: 0.5559406\ttotal: 1.03s\tremaining: 3.02s\n",
      "255:\tlearn: 0.5556652\ttotal: 1.04s\tremaining: 3.02s\n",
      "256:\tlearn: 0.5553787\ttotal: 1.04s\tremaining: 3.02s\n",
      "257:\tlearn: 0.5551718\ttotal: 1.05s\tremaining: 3.01s\n",
      "258:\tlearn: 0.5549179\ttotal: 1.05s\tremaining: 3.01s\n",
      "259:\tlearn: 0.5545592\ttotal: 1.06s\tremaining: 3.01s\n",
      "260:\tlearn: 0.5542477\ttotal: 1.06s\tremaining: 3.01s\n",
      "261:\tlearn: 0.5540006\ttotal: 1.06s\tremaining: 3s\n",
      "262:\tlearn: 0.5537757\ttotal: 1.07s\tremaining: 2.99s\n",
      "263:\tlearn: 0.5535037\ttotal: 1.07s\tremaining: 2.99s\n",
      "264:\tlearn: 0.5532130\ttotal: 1.07s\tremaining: 2.98s\n",
      "265:\tlearn: 0.5528688\ttotal: 1.08s\tremaining: 2.97s\n",
      "266:\tlearn: 0.5526104\ttotal: 1.08s\tremaining: 2.96s\n",
      "267:\tlearn: 0.5523793\ttotal: 1.09s\tremaining: 2.98s\n",
      "268:\tlearn: 0.5521196\ttotal: 1.09s\tremaining: 2.97s\n",
      "269:\tlearn: 0.5518327\ttotal: 1.1s\tremaining: 2.96s\n",
      "270:\tlearn: 0.5516492\ttotal: 1.1s\tremaining: 2.96s\n",
      "271:\tlearn: 0.5515035\ttotal: 1.1s\tremaining: 2.96s\n",
      "272:\tlearn: 0.5511694\ttotal: 1.11s\tremaining: 2.95s\n",
      "273:\tlearn: 0.5509473\ttotal: 1.11s\tremaining: 2.94s\n",
      "274:\tlearn: 0.5506702\ttotal: 1.11s\tremaining: 2.93s\n",
      "275:\tlearn: 0.5504457\ttotal: 1.11s\tremaining: 2.92s\n",
      "276:\tlearn: 0.5501661\ttotal: 1.12s\tremaining: 2.93s\n",
      "277:\tlearn: 0.5497962\ttotal: 1.12s\tremaining: 2.92s\n",
      "278:\tlearn: 0.5494216\ttotal: 1.13s\tremaining: 2.92s\n",
      "279:\tlearn: 0.5492253\ttotal: 1.13s\tremaining: 2.92s\n",
      "280:\tlearn: 0.5490358\ttotal: 1.14s\tremaining: 2.91s\n",
      "281:\tlearn: 0.5487373\ttotal: 1.14s\tremaining: 2.9s\n",
      "282:\tlearn: 0.5483787\ttotal: 1.14s\tremaining: 2.9s\n",
      "283:\tlearn: 0.5481691\ttotal: 1.15s\tremaining: 2.9s\n",
      "284:\tlearn: 0.5479025\ttotal: 1.15s\tremaining: 2.89s\n",
      "285:\tlearn: 0.5473629\ttotal: 1.16s\tremaining: 2.89s\n",
      "286:\tlearn: 0.5470879\ttotal: 1.17s\tremaining: 2.9s\n",
      "287:\tlearn: 0.5469602\ttotal: 1.17s\tremaining: 2.9s\n",
      "288:\tlearn: 0.5466627\ttotal: 1.18s\tremaining: 2.9s\n",
      "289:\tlearn: 0.5463616\ttotal: 1.18s\tremaining: 2.9s\n",
      "290:\tlearn: 0.5460205\ttotal: 1.19s\tremaining: 2.89s\n",
      "291:\tlearn: 0.5456507\ttotal: 1.19s\tremaining: 2.88s\n",
      "292:\tlearn: 0.5452064\ttotal: 1.19s\tremaining: 2.88s\n",
      "293:\tlearn: 0.5449227\ttotal: 1.2s\tremaining: 2.87s\n",
      "294:\tlearn: 0.5446109\ttotal: 1.2s\tremaining: 2.87s\n",
      "295:\tlearn: 0.5443545\ttotal: 1.2s\tremaining: 2.86s\n",
      "296:\tlearn: 0.5440850\ttotal: 1.21s\tremaining: 2.85s\n",
      "297:\tlearn: 0.5439417\ttotal: 1.21s\tremaining: 2.85s\n",
      "298:\tlearn: 0.5436868\ttotal: 1.21s\tremaining: 2.84s\n",
      "299:\tlearn: 0.5433484\ttotal: 1.21s\tremaining: 2.83s\n",
      "300:\tlearn: 0.5430172\ttotal: 1.22s\tremaining: 2.82s\n",
      "301:\tlearn: 0.5427321\ttotal: 1.22s\tremaining: 2.81s\n",
      "302:\tlearn: 0.5425193\ttotal: 1.22s\tremaining: 2.81s\n",
      "303:\tlearn: 0.5422201\ttotal: 1.22s\tremaining: 2.8s\n",
      "304:\tlearn: 0.5420377\ttotal: 1.23s\tremaining: 2.79s\n",
      "305:\tlearn: 0.5416319\ttotal: 1.23s\tremaining: 2.79s\n",
      "306:\tlearn: 0.5413968\ttotal: 1.23s\tremaining: 2.78s\n",
      "307:\tlearn: 0.5412153\ttotal: 1.23s\tremaining: 2.77s\n",
      "308:\tlearn: 0.5409397\ttotal: 1.24s\tremaining: 2.77s\n",
      "309:\tlearn: 0.5407806\ttotal: 1.24s\tremaining: 2.76s\n",
      "310:\tlearn: 0.5405743\ttotal: 1.24s\tremaining: 2.75s\n",
      "311:\tlearn: 0.5402507\ttotal: 1.24s\tremaining: 2.74s\n",
      "312:\tlearn: 0.5399838\ttotal: 1.25s\tremaining: 2.73s\n",
      "313:\tlearn: 0.5396317\ttotal: 1.25s\tremaining: 2.73s\n",
      "314:\tlearn: 0.5394024\ttotal: 1.25s\tremaining: 2.72s\n",
      "315:\tlearn: 0.5392074\ttotal: 1.25s\tremaining: 2.72s\n",
      "316:\tlearn: 0.5390884\ttotal: 1.26s\tremaining: 2.71s\n",
      "317:\tlearn: 0.5386853\ttotal: 1.26s\tremaining: 2.7s\n",
      "318:\tlearn: 0.5383384\ttotal: 1.26s\tremaining: 2.69s\n",
      "319:\tlearn: 0.5379743\ttotal: 1.26s\tremaining: 2.68s\n",
      "320:\tlearn: 0.5377371\ttotal: 1.27s\tremaining: 2.68s\n",
      "321:\tlearn: 0.5375630\ttotal: 1.27s\tremaining: 2.68s\n",
      "322:\tlearn: 0.5373356\ttotal: 1.27s\tremaining: 2.67s\n",
      "323:\tlearn: 0.5370594\ttotal: 1.28s\tremaining: 2.67s\n",
      "324:\tlearn: 0.5369315\ttotal: 1.29s\tremaining: 2.67s\n",
      "325:\tlearn: 0.5366658\ttotal: 1.29s\tremaining: 2.66s\n",
      "326:\tlearn: 0.5365113\ttotal: 1.29s\tremaining: 2.65s\n",
      "327:\tlearn: 0.5362214\ttotal: 1.29s\tremaining: 2.65s\n",
      "328:\tlearn: 0.5358795\ttotal: 1.3s\tremaining: 2.64s\n",
      "329:\tlearn: 0.5356031\ttotal: 1.3s\tremaining: 2.64s\n",
      "330:\tlearn: 0.5353410\ttotal: 1.3s\tremaining: 2.63s\n",
      "331:\tlearn: 0.5351350\ttotal: 1.3s\tremaining: 2.62s\n",
      "332:\tlearn: 0.5350076\ttotal: 1.3s\tremaining: 2.61s\n",
      "333:\tlearn: 0.5348539\ttotal: 1.3s\tremaining: 2.6s\n",
      "334:\tlearn: 0.5345614\ttotal: 1.31s\tremaining: 2.59s\n",
      "335:\tlearn: 0.5342626\ttotal: 1.31s\tremaining: 2.59s\n",
      "336:\tlearn: 0.5340948\ttotal: 1.31s\tremaining: 2.59s\n",
      "337:\tlearn: 0.5338982\ttotal: 1.32s\tremaining: 2.58s\n",
      "338:\tlearn: 0.5335707\ttotal: 1.32s\tremaining: 2.57s\n",
      "339:\tlearn: 0.5334061\ttotal: 1.32s\tremaining: 2.56s\n",
      "340:\tlearn: 0.5330125\ttotal: 1.32s\tremaining: 2.56s\n",
      "341:\tlearn: 0.5326883\ttotal: 1.33s\tremaining: 2.55s\n",
      "342:\tlearn: 0.5324185\ttotal: 1.33s\tremaining: 2.55s\n",
      "343:\tlearn: 0.5322615\ttotal: 1.33s\tremaining: 2.54s\n",
      "344:\tlearn: 0.5320370\ttotal: 1.33s\tremaining: 2.53s\n",
      "345:\tlearn: 0.5317117\ttotal: 1.33s\tremaining: 2.52s\n",
      "346:\tlearn: 0.5311767\ttotal: 1.34s\tremaining: 2.51s\n",
      "347:\tlearn: 0.5309881\ttotal: 1.34s\tremaining: 2.51s\n",
      "348:\tlearn: 0.5308563\ttotal: 1.35s\tremaining: 2.51s\n",
      "349:\tlearn: 0.5305232\ttotal: 1.35s\tremaining: 2.5s\n",
      "350:\tlearn: 0.5302442\ttotal: 1.35s\tremaining: 2.5s\n",
      "351:\tlearn: 0.5301050\ttotal: 1.36s\tremaining: 2.5s\n",
      "352:\tlearn: 0.5297244\ttotal: 1.36s\tremaining: 2.49s\n",
      "353:\tlearn: 0.5294461\ttotal: 1.36s\tremaining: 2.48s\n",
      "354:\tlearn: 0.5292038\ttotal: 1.36s\tremaining: 2.48s\n",
      "355:\tlearn: 0.5290816\ttotal: 1.37s\tremaining: 2.47s\n",
      "356:\tlearn: 0.5288375\ttotal: 1.37s\tremaining: 2.47s\n",
      "357:\tlearn: 0.5285822\ttotal: 1.37s\tremaining: 2.46s\n",
      "358:\tlearn: 0.5282288\ttotal: 1.37s\tremaining: 2.45s\n",
      "359:\tlearn: 0.5279573\ttotal: 1.38s\tremaining: 2.45s\n",
      "360:\tlearn: 0.5276658\ttotal: 1.38s\tremaining: 2.44s\n",
      "361:\tlearn: 0.5274942\ttotal: 1.38s\tremaining: 2.43s\n",
      "362:\tlearn: 0.5271825\ttotal: 1.38s\tremaining: 2.42s\n",
      "363:\tlearn: 0.5269433\ttotal: 1.39s\tremaining: 2.42s\n",
      "364:\tlearn: 0.5266186\ttotal: 1.39s\tremaining: 2.42s\n",
      "365:\tlearn: 0.5263119\ttotal: 1.39s\tremaining: 2.41s\n",
      "366:\tlearn: 0.5261697\ttotal: 1.39s\tremaining: 2.4s\n",
      "367:\tlearn: 0.5259532\ttotal: 1.4s\tremaining: 2.4s\n",
      "368:\tlearn: 0.5256623\ttotal: 1.4s\tremaining: 2.39s\n",
      "369:\tlearn: 0.5254859\ttotal: 1.4s\tremaining: 2.39s\n",
      "370:\tlearn: 0.5252335\ttotal: 1.41s\tremaining: 2.39s\n",
      "371:\tlearn: 0.5250425\ttotal: 1.41s\tremaining: 2.38s\n",
      "372:\tlearn: 0.5247601\ttotal: 1.42s\tremaining: 2.38s\n",
      "373:\tlearn: 0.5246139\ttotal: 1.42s\tremaining: 2.38s\n",
      "374:\tlearn: 0.5243945\ttotal: 1.42s\tremaining: 2.37s\n",
      "375:\tlearn: 0.5240748\ttotal: 1.43s\tremaining: 2.37s\n",
      "376:\tlearn: 0.5238659\ttotal: 1.43s\tremaining: 2.36s\n",
      "377:\tlearn: 0.5236940\ttotal: 1.43s\tremaining: 2.36s\n",
      "378:\tlearn: 0.5234506\ttotal: 1.44s\tremaining: 2.35s\n",
      "379:\tlearn: 0.5231305\ttotal: 1.44s\tremaining: 2.34s\n",
      "380:\tlearn: 0.5228394\ttotal: 1.44s\tremaining: 2.34s\n",
      "381:\tlearn: 0.5224562\ttotal: 1.44s\tremaining: 2.33s\n",
      "382:\tlearn: 0.5222125\ttotal: 1.44s\tremaining: 2.32s\n",
      "383:\tlearn: 0.5220307\ttotal: 1.44s\tremaining: 2.32s\n",
      "384:\tlearn: 0.5217556\ttotal: 1.45s\tremaining: 2.31s\n",
      "385:\tlearn: 0.5214753\ttotal: 1.45s\tremaining: 2.3s\n",
      "386:\tlearn: 0.5213383\ttotal: 1.45s\tremaining: 2.3s\n",
      "387:\tlearn: 0.5211406\ttotal: 1.45s\tremaining: 2.29s\n",
      "388:\tlearn: 0.5209304\ttotal: 1.45s\tremaining: 2.28s\n",
      "389:\tlearn: 0.5206202\ttotal: 1.46s\tremaining: 2.28s\n",
      "390:\tlearn: 0.5201536\ttotal: 1.46s\tremaining: 2.27s\n",
      "391:\tlearn: 0.5200142\ttotal: 1.46s\tremaining: 2.27s\n",
      "392:\tlearn: 0.5197531\ttotal: 1.46s\tremaining: 2.26s\n",
      "393:\tlearn: 0.5195285\ttotal: 1.47s\tremaining: 2.26s\n",
      "394:\tlearn: 0.5192337\ttotal: 1.47s\tremaining: 2.25s\n",
      "395:\tlearn: 0.5190810\ttotal: 1.47s\tremaining: 2.24s\n",
      "396:\tlearn: 0.5187534\ttotal: 1.48s\tremaining: 2.24s\n",
      "397:\tlearn: 0.5186023\ttotal: 1.48s\tremaining: 2.24s\n",
      "398:\tlearn: 0.5183848\ttotal: 1.48s\tremaining: 2.24s\n",
      "399:\tlearn: 0.5181089\ttotal: 1.49s\tremaining: 2.23s\n",
      "400:\tlearn: 0.5179450\ttotal: 1.49s\tremaining: 2.23s\n",
      "401:\tlearn: 0.5176165\ttotal: 1.5s\tremaining: 2.22s\n",
      "402:\tlearn: 0.5174288\ttotal: 1.5s\tremaining: 2.22s\n",
      "403:\tlearn: 0.5171597\ttotal: 1.5s\tremaining: 2.21s\n",
      "404:\tlearn: 0.5168178\ttotal: 1.5s\tremaining: 2.2s\n",
      "405:\tlearn: 0.5165637\ttotal: 1.51s\tremaining: 2.2s\n",
      "406:\tlearn: 0.5163444\ttotal: 1.51s\tremaining: 2.2s\n",
      "407:\tlearn: 0.5162397\ttotal: 1.51s\tremaining: 2.19s\n",
      "408:\tlearn: 0.5159189\ttotal: 1.51s\tremaining: 2.19s\n",
      "409:\tlearn: 0.5155567\ttotal: 1.52s\tremaining: 2.19s\n",
      "410:\tlearn: 0.5153364\ttotal: 1.53s\tremaining: 2.19s\n",
      "411:\tlearn: 0.5150320\ttotal: 1.53s\tremaining: 2.18s\n",
      "412:\tlearn: 0.5148869\ttotal: 1.53s\tremaining: 2.17s\n",
      "413:\tlearn: 0.5146592\ttotal: 1.53s\tremaining: 2.17s\n",
      "414:\tlearn: 0.5143090\ttotal: 1.53s\tremaining: 2.16s\n",
      "415:\tlearn: 0.5140884\ttotal: 1.54s\tremaining: 2.16s\n",
      "416:\tlearn: 0.5137096\ttotal: 1.54s\tremaining: 2.15s\n",
      "417:\tlearn: 0.5135479\ttotal: 1.54s\tremaining: 2.15s\n",
      "418:\tlearn: 0.5132139\ttotal: 1.54s\tremaining: 2.14s\n",
      "419:\tlearn: 0.5129763\ttotal: 1.54s\tremaining: 2.13s\n",
      "420:\tlearn: 0.5127544\ttotal: 1.54s\tremaining: 2.13s\n",
      "421:\tlearn: 0.5125141\ttotal: 1.55s\tremaining: 2.12s\n",
      "422:\tlearn: 0.5122628\ttotal: 1.55s\tremaining: 2.11s\n",
      "423:\tlearn: 0.5120072\ttotal: 1.55s\tremaining: 2.11s\n",
      "424:\tlearn: 0.5118037\ttotal: 1.55s\tremaining: 2.1s\n",
      "425:\tlearn: 0.5115327\ttotal: 1.55s\tremaining: 2.1s\n",
      "426:\tlearn: 0.5113417\ttotal: 1.56s\tremaining: 2.09s\n",
      "427:\tlearn: 0.5110919\ttotal: 1.56s\tremaining: 2.08s\n",
      "428:\tlearn: 0.5109169\ttotal: 1.56s\tremaining: 2.08s\n",
      "429:\tlearn: 0.5106014\ttotal: 1.56s\tremaining: 2.07s\n",
      "430:\tlearn: 0.5104059\ttotal: 1.56s\tremaining: 2.06s\n",
      "431:\tlearn: 0.5101867\ttotal: 1.57s\tremaining: 2.06s\n",
      "432:\tlearn: 0.5098176\ttotal: 1.57s\tremaining: 2.05s\n",
      "433:\tlearn: 0.5096066\ttotal: 1.57s\tremaining: 2.05s\n",
      "434:\tlearn: 0.5093340\ttotal: 1.57s\tremaining: 2.04s\n",
      "435:\tlearn: 0.5091340\ttotal: 1.57s\tremaining: 2.04s\n",
      "436:\tlearn: 0.5088437\ttotal: 1.57s\tremaining: 2.03s\n",
      "437:\tlearn: 0.5087028\ttotal: 1.58s\tremaining: 2.02s\n",
      "438:\tlearn: 0.5084402\ttotal: 1.58s\tremaining: 2.02s\n",
      "439:\tlearn: 0.5080212\ttotal: 1.58s\tremaining: 2.01s\n",
      "440:\tlearn: 0.5077830\ttotal: 1.58s\tremaining: 2.01s\n",
      "441:\tlearn: 0.5075341\ttotal: 1.58s\tremaining: 2s\n",
      "442:\tlearn: 0.5071189\ttotal: 1.59s\tremaining: 2s\n",
      "443:\tlearn: 0.5068957\ttotal: 1.59s\tremaining: 1.99s\n",
      "444:\tlearn: 0.5067212\ttotal: 1.59s\tremaining: 1.98s\n",
      "445:\tlearn: 0.5065193\ttotal: 1.59s\tremaining: 1.98s\n",
      "446:\tlearn: 0.5062848\ttotal: 1.59s\tremaining: 1.97s\n",
      "447:\tlearn: 0.5060528\ttotal: 1.6s\tremaining: 1.97s\n",
      "448:\tlearn: 0.5058384\ttotal: 1.6s\tremaining: 1.96s\n",
      "449:\tlearn: 0.5056314\ttotal: 1.6s\tremaining: 1.96s\n",
      "450:\tlearn: 0.5053819\ttotal: 1.6s\tremaining: 1.95s\n",
      "451:\tlearn: 0.5051205\ttotal: 1.6s\tremaining: 1.95s\n",
      "452:\tlearn: 0.5047546\ttotal: 1.61s\tremaining: 1.94s\n",
      "453:\tlearn: 0.5044917\ttotal: 1.61s\tremaining: 1.93s\n",
      "454:\tlearn: 0.5042559\ttotal: 1.61s\tremaining: 1.93s\n",
      "455:\tlearn: 0.5040695\ttotal: 1.61s\tremaining: 1.92s\n",
      "456:\tlearn: 0.5038875\ttotal: 1.61s\tremaining: 1.92s\n",
      "457:\tlearn: 0.5036795\ttotal: 1.61s\tremaining: 1.91s\n",
      "458:\tlearn: 0.5034077\ttotal: 1.62s\tremaining: 1.91s\n",
      "459:\tlearn: 0.5031449\ttotal: 1.62s\tremaining: 1.9s\n",
      "460:\tlearn: 0.5029164\ttotal: 1.62s\tremaining: 1.89s\n",
      "461:\tlearn: 0.5025654\ttotal: 1.62s\tremaining: 1.89s\n",
      "462:\tlearn: 0.5022644\ttotal: 1.62s\tremaining: 1.88s\n",
      "463:\tlearn: 0.5019791\ttotal: 1.62s\tremaining: 1.88s\n",
      "464:\tlearn: 0.5016905\ttotal: 1.63s\tremaining: 1.87s\n",
      "465:\tlearn: 0.5015295\ttotal: 1.63s\tremaining: 1.87s\n",
      "466:\tlearn: 0.5012512\ttotal: 1.63s\tremaining: 1.86s\n",
      "467:\tlearn: 0.5010929\ttotal: 1.63s\tremaining: 1.85s\n",
      "468:\tlearn: 0.5009158\ttotal: 1.63s\tremaining: 1.85s\n",
      "469:\tlearn: 0.5007171\ttotal: 1.63s\tremaining: 1.84s\n",
      "470:\tlearn: 0.5005102\ttotal: 1.64s\tremaining: 1.84s\n",
      "471:\tlearn: 0.5003252\ttotal: 1.64s\tremaining: 1.83s\n",
      "472:\tlearn: 0.5000954\ttotal: 1.64s\tremaining: 1.83s\n",
      "473:\tlearn: 0.4998790\ttotal: 1.64s\tremaining: 1.82s\n",
      "474:\tlearn: 0.4996469\ttotal: 1.65s\tremaining: 1.82s\n",
      "475:\tlearn: 0.4994482\ttotal: 1.65s\tremaining: 1.81s\n",
      "476:\tlearn: 0.4989983\ttotal: 1.65s\tremaining: 1.81s\n",
      "477:\tlearn: 0.4987334\ttotal: 1.65s\tremaining: 1.8s\n",
      "478:\tlearn: 0.4984059\ttotal: 1.65s\tremaining: 1.8s\n",
      "479:\tlearn: 0.4981476\ttotal: 1.65s\tremaining: 1.79s\n",
      "480:\tlearn: 0.4978888\ttotal: 1.66s\tremaining: 1.79s\n",
      "481:\tlearn: 0.4976175\ttotal: 1.66s\tremaining: 1.78s\n",
      "482:\tlearn: 0.4974213\ttotal: 1.66s\tremaining: 1.78s\n",
      "483:\tlearn: 0.4971538\ttotal: 1.66s\tremaining: 1.77s\n",
      "484:\tlearn: 0.4968319\ttotal: 1.66s\tremaining: 1.77s\n",
      "485:\tlearn: 0.4966131\ttotal: 1.67s\tremaining: 1.76s\n",
      "486:\tlearn: 0.4962124\ttotal: 1.67s\tremaining: 1.76s\n",
      "487:\tlearn: 0.4959688\ttotal: 1.67s\tremaining: 1.75s\n",
      "488:\tlearn: 0.4956450\ttotal: 1.67s\tremaining: 1.75s\n",
      "489:\tlearn: 0.4953986\ttotal: 1.67s\tremaining: 1.74s\n",
      "490:\tlearn: 0.4949982\ttotal: 1.67s\tremaining: 1.74s\n",
      "491:\tlearn: 0.4947261\ttotal: 1.68s\tremaining: 1.73s\n",
      "492:\tlearn: 0.4945387\ttotal: 1.68s\tremaining: 1.73s\n",
      "493:\tlearn: 0.4943572\ttotal: 1.68s\tremaining: 1.72s\n",
      "494:\tlearn: 0.4941313\ttotal: 1.68s\tremaining: 1.72s\n",
      "495:\tlearn: 0.4937894\ttotal: 1.68s\tremaining: 1.71s\n",
      "496:\tlearn: 0.4935219\ttotal: 1.69s\tremaining: 1.71s\n",
      "497:\tlearn: 0.4934213\ttotal: 1.69s\tremaining: 1.7s\n",
      "498:\tlearn: 0.4932333\ttotal: 1.69s\tremaining: 1.7s\n",
      "499:\tlearn: 0.4929846\ttotal: 1.69s\tremaining: 1.69s\n",
      "500:\tlearn: 0.4927340\ttotal: 1.69s\tremaining: 1.69s\n",
      "501:\tlearn: 0.4925900\ttotal: 1.7s\tremaining: 1.68s\n",
      "502:\tlearn: 0.4922966\ttotal: 1.7s\tremaining: 1.68s\n",
      "503:\tlearn: 0.4920324\ttotal: 1.7s\tremaining: 1.67s\n",
      "504:\tlearn: 0.4918016\ttotal: 1.7s\tremaining: 1.67s\n",
      "505:\tlearn: 0.4915624\ttotal: 1.7s\tremaining: 1.66s\n",
      "506:\tlearn: 0.4912778\ttotal: 1.7s\tremaining: 1.66s\n",
      "507:\tlearn: 0.4910458\ttotal: 1.71s\tremaining: 1.65s\n",
      "508:\tlearn: 0.4908468\ttotal: 1.71s\tremaining: 1.65s\n",
      "509:\tlearn: 0.4907297\ttotal: 1.71s\tremaining: 1.64s\n",
      "510:\tlearn: 0.4904174\ttotal: 1.71s\tremaining: 1.64s\n",
      "511:\tlearn: 0.4901035\ttotal: 1.71s\tremaining: 1.63s\n",
      "512:\tlearn: 0.4899266\ttotal: 1.72s\tremaining: 1.63s\n",
      "513:\tlearn: 0.4895904\ttotal: 1.72s\tremaining: 1.62s\n",
      "514:\tlearn: 0.4893016\ttotal: 1.72s\tremaining: 1.62s\n",
      "515:\tlearn: 0.4889823\ttotal: 1.72s\tremaining: 1.61s\n",
      "516:\tlearn: 0.4888223\ttotal: 1.72s\tremaining: 1.61s\n",
      "517:\tlearn: 0.4885865\ttotal: 1.72s\tremaining: 1.6s\n",
      "518:\tlearn: 0.4884238\ttotal: 1.73s\tremaining: 1.6s\n",
      "519:\tlearn: 0.4882162\ttotal: 1.73s\tremaining: 1.59s\n",
      "520:\tlearn: 0.4878520\ttotal: 1.73s\tremaining: 1.59s\n",
      "521:\tlearn: 0.4876090\ttotal: 1.73s\tremaining: 1.58s\n",
      "522:\tlearn: 0.4874481\ttotal: 1.73s\tremaining: 1.58s\n",
      "523:\tlearn: 0.4871973\ttotal: 1.73s\tremaining: 1.57s\n",
      "524:\tlearn: 0.4870211\ttotal: 1.74s\tremaining: 1.57s\n",
      "525:\tlearn: 0.4868262\ttotal: 1.74s\tremaining: 1.57s\n",
      "526:\tlearn: 0.4864433\ttotal: 1.74s\tremaining: 1.56s\n",
      "527:\tlearn: 0.4861913\ttotal: 1.74s\tremaining: 1.56s\n",
      "528:\tlearn: 0.4859855\ttotal: 1.74s\tremaining: 1.55s\n",
      "529:\tlearn: 0.4857662\ttotal: 1.75s\tremaining: 1.55s\n",
      "530:\tlearn: 0.4854909\ttotal: 1.75s\tremaining: 1.54s\n",
      "531:\tlearn: 0.4852239\ttotal: 1.75s\tremaining: 1.54s\n",
      "532:\tlearn: 0.4848672\ttotal: 1.75s\tremaining: 1.53s\n",
      "533:\tlearn: 0.4846865\ttotal: 1.75s\tremaining: 1.53s\n",
      "534:\tlearn: 0.4844464\ttotal: 1.76s\tremaining: 1.53s\n",
      "535:\tlearn: 0.4841252\ttotal: 1.76s\tremaining: 1.52s\n",
      "536:\tlearn: 0.4838783\ttotal: 1.76s\tremaining: 1.52s\n",
      "537:\tlearn: 0.4836190\ttotal: 1.76s\tremaining: 1.51s\n",
      "538:\tlearn: 0.4834640\ttotal: 1.76s\tremaining: 1.51s\n",
      "539:\tlearn: 0.4832294\ttotal: 1.76s\tremaining: 1.5s\n",
      "540:\tlearn: 0.4828085\ttotal: 1.77s\tremaining: 1.5s\n",
      "541:\tlearn: 0.4826535\ttotal: 1.77s\tremaining: 1.5s\n",
      "542:\tlearn: 0.4823801\ttotal: 1.77s\tremaining: 1.49s\n",
      "543:\tlearn: 0.4821468\ttotal: 1.78s\tremaining: 1.49s\n",
      "544:\tlearn: 0.4819055\ttotal: 1.78s\tremaining: 1.49s\n",
      "545:\tlearn: 0.4817047\ttotal: 1.78s\tremaining: 1.48s\n",
      "546:\tlearn: 0.4815229\ttotal: 1.78s\tremaining: 1.48s\n",
      "547:\tlearn: 0.4813398\ttotal: 1.78s\tremaining: 1.47s\n",
      "548:\tlearn: 0.4809191\ttotal: 1.79s\tremaining: 1.47s\n",
      "549:\tlearn: 0.4807490\ttotal: 1.79s\tremaining: 1.46s\n",
      "550:\tlearn: 0.4806305\ttotal: 1.79s\tremaining: 1.46s\n",
      "551:\tlearn: 0.4804138\ttotal: 1.79s\tremaining: 1.45s\n",
      "552:\tlearn: 0.4801598\ttotal: 1.79s\tremaining: 1.45s\n",
      "553:\tlearn: 0.4799190\ttotal: 1.8s\tremaining: 1.45s\n",
      "554:\tlearn: 0.4797970\ttotal: 1.8s\tremaining: 1.44s\n",
      "555:\tlearn: 0.4795142\ttotal: 1.8s\tremaining: 1.44s\n",
      "556:\tlearn: 0.4791775\ttotal: 1.8s\tremaining: 1.43s\n",
      "557:\tlearn: 0.4789766\ttotal: 1.8s\tremaining: 1.43s\n",
      "558:\tlearn: 0.4787126\ttotal: 1.81s\tremaining: 1.43s\n",
      "559:\tlearn: 0.4783957\ttotal: 1.81s\tremaining: 1.42s\n",
      "560:\tlearn: 0.4782758\ttotal: 1.81s\tremaining: 1.42s\n",
      "561:\tlearn: 0.4781065\ttotal: 1.81s\tremaining: 1.41s\n",
      "562:\tlearn: 0.4778407\ttotal: 1.81s\tremaining: 1.41s\n",
      "563:\tlearn: 0.4776000\ttotal: 1.82s\tremaining: 1.4s\n",
      "564:\tlearn: 0.4774131\ttotal: 1.82s\tremaining: 1.4s\n",
      "565:\tlearn: 0.4772759\ttotal: 1.82s\tremaining: 1.4s\n",
      "566:\tlearn: 0.4770093\ttotal: 1.82s\tremaining: 1.39s\n",
      "567:\tlearn: 0.4769061\ttotal: 1.82s\tremaining: 1.39s\n",
      "568:\tlearn: 0.4766595\ttotal: 1.82s\tremaining: 1.38s\n",
      "569:\tlearn: 0.4764584\ttotal: 1.83s\tremaining: 1.38s\n",
      "570:\tlearn: 0.4761391\ttotal: 1.83s\tremaining: 1.37s\n",
      "571:\tlearn: 0.4758145\ttotal: 1.83s\tremaining: 1.37s\n",
      "572:\tlearn: 0.4754331\ttotal: 1.83s\tremaining: 1.36s\n",
      "573:\tlearn: 0.4753283\ttotal: 1.83s\tremaining: 1.36s\n",
      "574:\tlearn: 0.4750033\ttotal: 1.83s\tremaining: 1.36s\n",
      "575:\tlearn: 0.4746594\ttotal: 1.84s\tremaining: 1.35s\n",
      "576:\tlearn: 0.4743339\ttotal: 1.84s\tremaining: 1.35s\n",
      "577:\tlearn: 0.4740974\ttotal: 1.84s\tremaining: 1.34s\n",
      "578:\tlearn: 0.4739620\ttotal: 1.84s\tremaining: 1.34s\n",
      "579:\tlearn: 0.4737019\ttotal: 1.84s\tremaining: 1.34s\n",
      "580:\tlearn: 0.4734327\ttotal: 1.85s\tremaining: 1.33s\n",
      "581:\tlearn: 0.4729974\ttotal: 1.85s\tremaining: 1.33s\n",
      "582:\tlearn: 0.4727720\ttotal: 1.85s\tremaining: 1.32s\n",
      "583:\tlearn: 0.4724547\ttotal: 1.85s\tremaining: 1.32s\n",
      "584:\tlearn: 0.4722312\ttotal: 1.85s\tremaining: 1.32s\n",
      "585:\tlearn: 0.4720441\ttotal: 1.86s\tremaining: 1.31s\n",
      "586:\tlearn: 0.4717052\ttotal: 1.86s\tremaining: 1.31s\n",
      "587:\tlearn: 0.4714453\ttotal: 1.86s\tremaining: 1.3s\n",
      "588:\tlearn: 0.4710180\ttotal: 1.86s\tremaining: 1.3s\n",
      "589:\tlearn: 0.4708441\ttotal: 1.87s\tremaining: 1.3s\n",
      "590:\tlearn: 0.4706772\ttotal: 1.87s\tremaining: 1.29s\n",
      "591:\tlearn: 0.4704274\ttotal: 1.87s\tremaining: 1.29s\n",
      "592:\tlearn: 0.4701736\ttotal: 1.87s\tremaining: 1.28s\n",
      "593:\tlearn: 0.4699189\ttotal: 1.87s\tremaining: 1.28s\n",
      "594:\tlearn: 0.4696548\ttotal: 1.88s\tremaining: 1.28s\n",
      "595:\tlearn: 0.4694107\ttotal: 1.88s\tremaining: 1.27s\n",
      "596:\tlearn: 0.4691821\ttotal: 1.88s\tremaining: 1.27s\n",
      "597:\tlearn: 0.4688481\ttotal: 1.88s\tremaining: 1.26s\n",
      "598:\tlearn: 0.4686884\ttotal: 1.88s\tremaining: 1.26s\n",
      "599:\tlearn: 0.4684324\ttotal: 1.89s\tremaining: 1.26s\n",
      "600:\tlearn: 0.4680482\ttotal: 1.89s\tremaining: 1.25s\n",
      "601:\tlearn: 0.4677910\ttotal: 1.89s\tremaining: 1.25s\n",
      "602:\tlearn: 0.4674974\ttotal: 1.89s\tremaining: 1.25s\n",
      "603:\tlearn: 0.4673829\ttotal: 1.89s\tremaining: 1.24s\n",
      "604:\tlearn: 0.4672347\ttotal: 1.9s\tremaining: 1.24s\n",
      "605:\tlearn: 0.4669231\ttotal: 1.9s\tremaining: 1.23s\n",
      "606:\tlearn: 0.4665865\ttotal: 1.9s\tremaining: 1.23s\n",
      "607:\tlearn: 0.4661769\ttotal: 1.9s\tremaining: 1.23s\n",
      "608:\tlearn: 0.4659156\ttotal: 1.9s\tremaining: 1.22s\n",
      "609:\tlearn: 0.4657372\ttotal: 1.91s\tremaining: 1.22s\n",
      "610:\tlearn: 0.4655614\ttotal: 1.91s\tremaining: 1.22s\n",
      "611:\tlearn: 0.4652397\ttotal: 1.91s\tremaining: 1.21s\n",
      "612:\tlearn: 0.4649327\ttotal: 1.91s\tremaining: 1.21s\n",
      "613:\tlearn: 0.4646345\ttotal: 1.91s\tremaining: 1.2s\n",
      "614:\tlearn: 0.4644107\ttotal: 1.92s\tremaining: 1.2s\n",
      "615:\tlearn: 0.4642377\ttotal: 1.92s\tremaining: 1.19s\n",
      "616:\tlearn: 0.4639778\ttotal: 1.92s\tremaining: 1.19s\n",
      "617:\tlearn: 0.4636660\ttotal: 1.92s\tremaining: 1.19s\n",
      "618:\tlearn: 0.4633186\ttotal: 1.92s\tremaining: 1.18s\n",
      "619:\tlearn: 0.4629852\ttotal: 1.93s\tremaining: 1.18s\n",
      "620:\tlearn: 0.4627462\ttotal: 1.93s\tremaining: 1.18s\n",
      "621:\tlearn: 0.4625634\ttotal: 1.93s\tremaining: 1.17s\n",
      "622:\tlearn: 0.4623226\ttotal: 1.93s\tremaining: 1.17s\n",
      "623:\tlearn: 0.4620619\ttotal: 1.93s\tremaining: 1.16s\n",
      "624:\tlearn: 0.4618676\ttotal: 1.94s\tremaining: 1.16s\n",
      "625:\tlearn: 0.4616229\ttotal: 1.94s\tremaining: 1.16s\n",
      "626:\tlearn: 0.4612881\ttotal: 1.94s\tremaining: 1.15s\n",
      "627:\tlearn: 0.4609980\ttotal: 1.94s\tremaining: 1.15s\n",
      "628:\tlearn: 0.4608726\ttotal: 1.94s\tremaining: 1.15s\n",
      "629:\tlearn: 0.4604886\ttotal: 1.95s\tremaining: 1.14s\n",
      "630:\tlearn: 0.4603087\ttotal: 1.95s\tremaining: 1.14s\n",
      "631:\tlearn: 0.4600384\ttotal: 1.95s\tremaining: 1.13s\n",
      "632:\tlearn: 0.4598918\ttotal: 1.95s\tremaining: 1.13s\n",
      "633:\tlearn: 0.4596467\ttotal: 1.95s\tremaining: 1.13s\n",
      "634:\tlearn: 0.4594315\ttotal: 1.96s\tremaining: 1.13s\n",
      "635:\tlearn: 0.4592544\ttotal: 1.96s\tremaining: 1.12s\n",
      "636:\tlearn: 0.4588193\ttotal: 1.96s\tremaining: 1.12s\n",
      "637:\tlearn: 0.4586201\ttotal: 1.97s\tremaining: 1.11s\n",
      "638:\tlearn: 0.4583997\ttotal: 1.97s\tremaining: 1.11s\n",
      "639:\tlearn: 0.4581978\ttotal: 1.97s\tremaining: 1.11s\n",
      "640:\tlearn: 0.4579879\ttotal: 1.97s\tremaining: 1.1s\n",
      "641:\tlearn: 0.4578579\ttotal: 1.97s\tremaining: 1.1s\n",
      "642:\tlearn: 0.4576636\ttotal: 1.98s\tremaining: 1.1s\n",
      "643:\tlearn: 0.4574194\ttotal: 1.98s\tremaining: 1.09s\n",
      "644:\tlearn: 0.4572757\ttotal: 1.98s\tremaining: 1.09s\n",
      "645:\tlearn: 0.4571016\ttotal: 1.98s\tremaining: 1.09s\n",
      "646:\tlearn: 0.4569065\ttotal: 1.99s\tremaining: 1.08s\n",
      "647:\tlearn: 0.4567084\ttotal: 1.99s\tremaining: 1.08s\n",
      "648:\tlearn: 0.4564312\ttotal: 1.99s\tremaining: 1.08s\n",
      "649:\tlearn: 0.4561463\ttotal: 1.99s\tremaining: 1.07s\n",
      "650:\tlearn: 0.4557410\ttotal: 1.99s\tremaining: 1.07s\n",
      "651:\tlearn: 0.4555615\ttotal: 2s\tremaining: 1.06s\n",
      "652:\tlearn: 0.4554160\ttotal: 2s\tremaining: 1.06s\n",
      "653:\tlearn: 0.4552388\ttotal: 2s\tremaining: 1.06s\n",
      "654:\tlearn: 0.4551435\ttotal: 2s\tremaining: 1.05s\n",
      "655:\tlearn: 0.4548856\ttotal: 2s\tremaining: 1.05s\n",
      "656:\tlearn: 0.4546666\ttotal: 2.01s\tremaining: 1.05s\n",
      "657:\tlearn: 0.4544576\ttotal: 2.01s\tremaining: 1.04s\n",
      "658:\tlearn: 0.4541828\ttotal: 2.01s\tremaining: 1.04s\n",
      "659:\tlearn: 0.4538836\ttotal: 2.02s\tremaining: 1.04s\n",
      "660:\tlearn: 0.4535977\ttotal: 2.02s\tremaining: 1.03s\n",
      "661:\tlearn: 0.4534321\ttotal: 2.02s\tremaining: 1.03s\n",
      "662:\tlearn: 0.4531652\ttotal: 2.02s\tremaining: 1.03s\n",
      "663:\tlearn: 0.4528883\ttotal: 2.02s\tremaining: 1.02s\n",
      "664:\tlearn: 0.4525554\ttotal: 2.03s\tremaining: 1.02s\n",
      "665:\tlearn: 0.4522480\ttotal: 2.03s\tremaining: 1.02s\n",
      "666:\tlearn: 0.4518861\ttotal: 2.03s\tremaining: 1.01s\n",
      "667:\tlearn: 0.4516150\ttotal: 2.03s\tremaining: 1.01s\n",
      "668:\tlearn: 0.4514126\ttotal: 2.04s\tremaining: 1.01s\n",
      "669:\tlearn: 0.4511624\ttotal: 2.04s\tremaining: 1s\n",
      "670:\tlearn: 0.4508709\ttotal: 2.04s\tremaining: 1s\n",
      "671:\tlearn: 0.4506172\ttotal: 2.04s\tremaining: 997ms\n",
      "672:\tlearn: 0.4502118\ttotal: 2.04s\tremaining: 994ms\n",
      "673:\tlearn: 0.4500149\ttotal: 2.05s\tremaining: 990ms\n",
      "674:\tlearn: 0.4497491\ttotal: 2.05s\tremaining: 987ms\n",
      "675:\tlearn: 0.4495167\ttotal: 2.05s\tremaining: 983ms\n",
      "676:\tlearn: 0.4491337\ttotal: 2.05s\tremaining: 980ms\n",
      "677:\tlearn: 0.4488916\ttotal: 2.06s\tremaining: 976ms\n",
      "678:\tlearn: 0.4487669\ttotal: 2.06s\tremaining: 973ms\n",
      "679:\tlearn: 0.4485093\ttotal: 2.06s\tremaining: 970ms\n",
      "680:\tlearn: 0.4482737\ttotal: 2.06s\tremaining: 966ms\n",
      "681:\tlearn: 0.4479347\ttotal: 2.06s\tremaining: 963ms\n",
      "682:\tlearn: 0.4475367\ttotal: 2.07s\tremaining: 960ms\n",
      "683:\tlearn: 0.4473422\ttotal: 2.07s\tremaining: 957ms\n",
      "684:\tlearn: 0.4471256\ttotal: 2.07s\tremaining: 954ms\n",
      "685:\tlearn: 0.4469489\ttotal: 2.08s\tremaining: 951ms\n",
      "686:\tlearn: 0.4466601\ttotal: 2.08s\tremaining: 948ms\n",
      "687:\tlearn: 0.4464309\ttotal: 2.08s\tremaining: 945ms\n",
      "688:\tlearn: 0.4461937\ttotal: 2.08s\tremaining: 941ms\n",
      "689:\tlearn: 0.4460185\ttotal: 2.09s\tremaining: 939ms\n",
      "690:\tlearn: 0.4457749\ttotal: 2.1s\tremaining: 937ms\n",
      "691:\tlearn: 0.4455981\ttotal: 2.1s\tremaining: 933ms\n",
      "692:\tlearn: 0.4452933\ttotal: 2.1s\tremaining: 930ms\n",
      "693:\tlearn: 0.4450202\ttotal: 2.1s\tremaining: 927ms\n",
      "694:\tlearn: 0.4447855\ttotal: 2.11s\tremaining: 924ms\n",
      "695:\tlearn: 0.4445331\ttotal: 2.11s\tremaining: 921ms\n",
      "696:\tlearn: 0.4443486\ttotal: 2.11s\tremaining: 917ms\n",
      "697:\tlearn: 0.4441888\ttotal: 2.13s\tremaining: 920ms\n",
      "698:\tlearn: 0.4439271\ttotal: 2.13s\tremaining: 917ms\n",
      "699:\tlearn: 0.4436799\ttotal: 2.13s\tremaining: 913ms\n",
      "700:\tlearn: 0.4434705\ttotal: 2.13s\tremaining: 910ms\n",
      "701:\tlearn: 0.4431823\ttotal: 2.14s\tremaining: 908ms\n",
      "702:\tlearn: 0.4429342\ttotal: 2.15s\tremaining: 907ms\n",
      "703:\tlearn: 0.4426745\ttotal: 2.15s\tremaining: 905ms\n",
      "704:\tlearn: 0.4424991\ttotal: 2.16s\tremaining: 902ms\n",
      "705:\tlearn: 0.4422070\ttotal: 2.16s\tremaining: 900ms\n",
      "706:\tlearn: 0.4417945\ttotal: 2.17s\tremaining: 898ms\n",
      "707:\tlearn: 0.4415996\ttotal: 2.17s\tremaining: 895ms\n",
      "708:\tlearn: 0.4414097\ttotal: 2.17s\tremaining: 892ms\n",
      "709:\tlearn: 0.4412007\ttotal: 2.17s\tremaining: 889ms\n",
      "710:\tlearn: 0.4409301\ttotal: 2.18s\tremaining: 885ms\n",
      "711:\tlearn: 0.4405942\ttotal: 2.18s\tremaining: 884ms\n",
      "712:\tlearn: 0.4402791\ttotal: 2.19s\tremaining: 880ms\n",
      "713:\tlearn: 0.4400284\ttotal: 2.19s\tremaining: 878ms\n",
      "714:\tlearn: 0.4398400\ttotal: 2.19s\tremaining: 874ms\n",
      "715:\tlearn: 0.4396267\ttotal: 2.2s\tremaining: 872ms\n",
      "716:\tlearn: 0.4394135\ttotal: 2.2s\tremaining: 869ms\n",
      "717:\tlearn: 0.4392559\ttotal: 2.2s\tremaining: 866ms\n",
      "718:\tlearn: 0.4390237\ttotal: 2.21s\tremaining: 862ms\n",
      "719:\tlearn: 0.4388552\ttotal: 2.21s\tremaining: 859ms\n",
      "720:\tlearn: 0.4386461\ttotal: 2.21s\tremaining: 856ms\n",
      "721:\tlearn: 0.4383915\ttotal: 2.21s\tremaining: 853ms\n",
      "722:\tlearn: 0.4379339\ttotal: 2.22s\tremaining: 850ms\n",
      "723:\tlearn: 0.4377883\ttotal: 2.22s\tremaining: 847ms\n",
      "724:\tlearn: 0.4375313\ttotal: 2.22s\tremaining: 844ms\n",
      "725:\tlearn: 0.4372649\ttotal: 2.23s\tremaining: 842ms\n",
      "726:\tlearn: 0.4370737\ttotal: 2.23s\tremaining: 839ms\n",
      "727:\tlearn: 0.4369650\ttotal: 2.24s\tremaining: 836ms\n",
      "728:\tlearn: 0.4367737\ttotal: 2.24s\tremaining: 832ms\n",
      "729:\tlearn: 0.4365919\ttotal: 2.25s\tremaining: 830ms\n",
      "730:\tlearn: 0.4362267\ttotal: 2.25s\tremaining: 827ms\n",
      "731:\tlearn: 0.4361209\ttotal: 2.25s\tremaining: 824ms\n",
      "732:\tlearn: 0.4357334\ttotal: 2.25s\tremaining: 821ms\n",
      "733:\tlearn: 0.4354303\ttotal: 2.26s\tremaining: 818ms\n",
      "734:\tlearn: 0.4352980\ttotal: 2.26s\tremaining: 815ms\n",
      "735:\tlearn: 0.4350516\ttotal: 2.26s\tremaining: 812ms\n",
      "736:\tlearn: 0.4349439\ttotal: 2.26s\tremaining: 808ms\n",
      "737:\tlearn: 0.4345931\ttotal: 2.27s\tremaining: 805ms\n",
      "738:\tlearn: 0.4342654\ttotal: 2.27s\tremaining: 801ms\n",
      "739:\tlearn: 0.4340306\ttotal: 2.27s\tremaining: 799ms\n",
      "740:\tlearn: 0.4338543\ttotal: 2.28s\tremaining: 796ms\n",
      "741:\tlearn: 0.4337573\ttotal: 2.28s\tremaining: 792ms\n",
      "742:\tlearn: 0.4334755\ttotal: 2.28s\tremaining: 789ms\n",
      "743:\tlearn: 0.4332775\ttotal: 2.28s\tremaining: 785ms\n",
      "744:\tlearn: 0.4331080\ttotal: 2.28s\tremaining: 782ms\n",
      "745:\tlearn: 0.4328901\ttotal: 2.29s\tremaining: 779ms\n",
      "746:\tlearn: 0.4327432\ttotal: 2.29s\tremaining: 776ms\n",
      "747:\tlearn: 0.4324416\ttotal: 2.29s\tremaining: 772ms\n",
      "748:\tlearn: 0.4320853\ttotal: 2.29s\tremaining: 769ms\n",
      "749:\tlearn: 0.4317872\ttotal: 2.29s\tremaining: 765ms\n",
      "750:\tlearn: 0.4315389\ttotal: 2.3s\tremaining: 761ms\n",
      "751:\tlearn: 0.4313471\ttotal: 2.3s\tremaining: 758ms\n",
      "752:\tlearn: 0.4311605\ttotal: 2.3s\tremaining: 755ms\n",
      "753:\tlearn: 0.4309455\ttotal: 2.3s\tremaining: 752ms\n",
      "754:\tlearn: 0.4306947\ttotal: 2.31s\tremaining: 748ms\n",
      "755:\tlearn: 0.4304348\ttotal: 2.31s\tremaining: 745ms\n",
      "756:\tlearn: 0.4302340\ttotal: 2.31s\tremaining: 741ms\n",
      "757:\tlearn: 0.4299801\ttotal: 2.31s\tremaining: 738ms\n",
      "758:\tlearn: 0.4298513\ttotal: 2.31s\tremaining: 734ms\n",
      "759:\tlearn: 0.4296786\ttotal: 2.31s\tremaining: 731ms\n",
      "760:\tlearn: 0.4294576\ttotal: 2.31s\tremaining: 727ms\n",
      "761:\tlearn: 0.4292395\ttotal: 2.32s\tremaining: 724ms\n",
      "762:\tlearn: 0.4289534\ttotal: 2.32s\tremaining: 721ms\n",
      "763:\tlearn: 0.4287144\ttotal: 2.32s\tremaining: 717ms\n",
      "764:\tlearn: 0.4284931\ttotal: 2.32s\tremaining: 714ms\n",
      "765:\tlearn: 0.4282625\ttotal: 2.33s\tremaining: 710ms\n",
      "766:\tlearn: 0.4280913\ttotal: 2.33s\tremaining: 707ms\n",
      "767:\tlearn: 0.4277135\ttotal: 2.33s\tremaining: 704ms\n",
      "768:\tlearn: 0.4276068\ttotal: 2.33s\tremaining: 700ms\n",
      "769:\tlearn: 0.4272489\ttotal: 2.33s\tremaining: 697ms\n",
      "770:\tlearn: 0.4269890\ttotal: 2.34s\tremaining: 694ms\n",
      "771:\tlearn: 0.4267201\ttotal: 2.34s\tremaining: 691ms\n",
      "772:\tlearn: 0.4264708\ttotal: 2.35s\tremaining: 690ms\n",
      "773:\tlearn: 0.4262591\ttotal: 2.35s\tremaining: 687ms\n",
      "774:\tlearn: 0.4260413\ttotal: 2.35s\tremaining: 684ms\n",
      "775:\tlearn: 0.4257683\ttotal: 2.36s\tremaining: 680ms\n",
      "776:\tlearn: 0.4253830\ttotal: 2.36s\tremaining: 677ms\n",
      "777:\tlearn: 0.4251657\ttotal: 2.36s\tremaining: 673ms\n",
      "778:\tlearn: 0.4247819\ttotal: 2.36s\tremaining: 670ms\n",
      "779:\tlearn: 0.4245448\ttotal: 2.36s\tremaining: 667ms\n",
      "780:\tlearn: 0.4242712\ttotal: 2.37s\tremaining: 664ms\n",
      "781:\tlearn: 0.4241339\ttotal: 2.37s\tremaining: 661ms\n",
      "782:\tlearn: 0.4238477\ttotal: 2.37s\tremaining: 657ms\n",
      "783:\tlearn: 0.4236415\ttotal: 2.37s\tremaining: 654ms\n",
      "784:\tlearn: 0.4233967\ttotal: 2.38s\tremaining: 651ms\n",
      "785:\tlearn: 0.4230599\ttotal: 2.38s\tremaining: 647ms\n",
      "786:\tlearn: 0.4227989\ttotal: 2.38s\tremaining: 645ms\n",
      "787:\tlearn: 0.4225237\ttotal: 2.38s\tremaining: 641ms\n",
      "788:\tlearn: 0.4222447\ttotal: 2.38s\tremaining: 638ms\n",
      "789:\tlearn: 0.4220967\ttotal: 2.39s\tremaining: 635ms\n",
      "790:\tlearn: 0.4219543\ttotal: 2.39s\tremaining: 631ms\n",
      "791:\tlearn: 0.4216314\ttotal: 2.39s\tremaining: 628ms\n",
      "792:\tlearn: 0.4213863\ttotal: 2.39s\tremaining: 625ms\n",
      "793:\tlearn: 0.4211283\ttotal: 2.4s\tremaining: 622ms\n",
      "794:\tlearn: 0.4209236\ttotal: 2.4s\tremaining: 619ms\n",
      "795:\tlearn: 0.4207475\ttotal: 2.4s\tremaining: 615ms\n",
      "796:\tlearn: 0.4205493\ttotal: 2.4s\tremaining: 612ms\n",
      "797:\tlearn: 0.4203119\ttotal: 2.4s\tremaining: 609ms\n",
      "798:\tlearn: 0.4200929\ttotal: 2.41s\tremaining: 605ms\n",
      "799:\tlearn: 0.4197784\ttotal: 2.41s\tremaining: 602ms\n",
      "800:\tlearn: 0.4195234\ttotal: 2.41s\tremaining: 599ms\n",
      "801:\tlearn: 0.4193923\ttotal: 2.41s\tremaining: 596ms\n",
      "802:\tlearn: 0.4192016\ttotal: 2.41s\tremaining: 592ms\n",
      "803:\tlearn: 0.4190204\ttotal: 2.42s\tremaining: 589ms\n",
      "804:\tlearn: 0.4186337\ttotal: 2.42s\tremaining: 586ms\n",
      "805:\tlearn: 0.4184604\ttotal: 2.42s\tremaining: 583ms\n",
      "806:\tlearn: 0.4182379\ttotal: 2.42s\tremaining: 579ms\n",
      "807:\tlearn: 0.4179607\ttotal: 2.42s\tremaining: 576ms\n",
      "808:\tlearn: 0.4176936\ttotal: 2.43s\tremaining: 574ms\n",
      "809:\tlearn: 0.4174476\ttotal: 2.43s\tremaining: 571ms\n",
      "810:\tlearn: 0.4172093\ttotal: 2.44s\tremaining: 568ms\n",
      "811:\tlearn: 0.4169614\ttotal: 2.44s\tremaining: 565ms\n",
      "812:\tlearn: 0.4166486\ttotal: 2.44s\tremaining: 562ms\n",
      "813:\tlearn: 0.4164877\ttotal: 2.45s\tremaining: 560ms\n",
      "814:\tlearn: 0.4161906\ttotal: 2.45s\tremaining: 556ms\n",
      "815:\tlearn: 0.4159958\ttotal: 2.45s\tremaining: 553ms\n",
      "816:\tlearn: 0.4157215\ttotal: 2.46s\tremaining: 550ms\n",
      "817:\tlearn: 0.4155006\ttotal: 2.46s\tremaining: 547ms\n",
      "818:\tlearn: 0.4152729\ttotal: 2.46s\tremaining: 544ms\n",
      "819:\tlearn: 0.4149175\ttotal: 2.46s\tremaining: 541ms\n",
      "820:\tlearn: 0.4147376\ttotal: 2.46s\tremaining: 537ms\n",
      "821:\tlearn: 0.4145734\ttotal: 2.47s\tremaining: 534ms\n",
      "822:\tlearn: 0.4143309\ttotal: 2.47s\tremaining: 531ms\n",
      "823:\tlearn: 0.4140528\ttotal: 2.47s\tremaining: 528ms\n",
      "824:\tlearn: 0.4138014\ttotal: 2.48s\tremaining: 526ms\n",
      "825:\tlearn: 0.4135081\ttotal: 2.48s\tremaining: 522ms\n",
      "826:\tlearn: 0.4133540\ttotal: 2.48s\tremaining: 519ms\n",
      "827:\tlearn: 0.4130863\ttotal: 2.48s\tremaining: 516ms\n",
      "828:\tlearn: 0.4129601\ttotal: 2.48s\tremaining: 513ms\n",
      "829:\tlearn: 0.4127268\ttotal: 2.49s\tremaining: 509ms\n",
      "830:\tlearn: 0.4124906\ttotal: 2.49s\tremaining: 506ms\n",
      "831:\tlearn: 0.4122496\ttotal: 2.49s\tremaining: 503ms\n",
      "832:\tlearn: 0.4119051\ttotal: 2.49s\tremaining: 500ms\n",
      "833:\tlearn: 0.4117095\ttotal: 2.5s\tremaining: 497ms\n",
      "834:\tlearn: 0.4115285\ttotal: 2.5s\tremaining: 494ms\n",
      "835:\tlearn: 0.4113559\ttotal: 2.5s\tremaining: 490ms\n",
      "836:\tlearn: 0.4111972\ttotal: 2.5s\tremaining: 487ms\n",
      "837:\tlearn: 0.4109625\ttotal: 2.5s\tremaining: 484ms\n",
      "838:\tlearn: 0.4106202\ttotal: 2.51s\tremaining: 481ms\n",
      "839:\tlearn: 0.4104821\ttotal: 2.51s\tremaining: 478ms\n",
      "840:\tlearn: 0.4103551\ttotal: 2.51s\tremaining: 475ms\n",
      "841:\tlearn: 0.4101841\ttotal: 2.51s\tremaining: 472ms\n",
      "842:\tlearn: 0.4101099\ttotal: 2.52s\tremaining: 468ms\n",
      "843:\tlearn: 0.4099375\ttotal: 2.52s\tremaining: 465ms\n",
      "844:\tlearn: 0.4097329\ttotal: 2.52s\tremaining: 463ms\n",
      "845:\tlearn: 0.4094764\ttotal: 2.52s\tremaining: 460ms\n",
      "846:\tlearn: 0.4091135\ttotal: 2.53s\tremaining: 456ms\n",
      "847:\tlearn: 0.4088047\ttotal: 2.53s\tremaining: 453ms\n",
      "848:\tlearn: 0.4085528\ttotal: 2.53s\tremaining: 450ms\n",
      "849:\tlearn: 0.4084135\ttotal: 2.54s\tremaining: 448ms\n",
      "850:\tlearn: 0.4082681\ttotal: 2.54s\tremaining: 444ms\n",
      "851:\tlearn: 0.4080025\ttotal: 2.54s\tremaining: 441ms\n",
      "852:\tlearn: 0.4077070\ttotal: 2.54s\tremaining: 438ms\n",
      "853:\tlearn: 0.4073495\ttotal: 2.54s\tremaining: 435ms\n",
      "854:\tlearn: 0.4071811\ttotal: 2.54s\tremaining: 432ms\n",
      "855:\tlearn: 0.4069877\ttotal: 2.55s\tremaining: 429ms\n",
      "856:\tlearn: 0.4067440\ttotal: 2.55s\tremaining: 426ms\n",
      "857:\tlearn: 0.4066015\ttotal: 2.55s\tremaining: 423ms\n",
      "858:\tlearn: 0.4063085\ttotal: 2.56s\tremaining: 420ms\n",
      "859:\tlearn: 0.4061997\ttotal: 2.56s\tremaining: 416ms\n",
      "860:\tlearn: 0.4059363\ttotal: 2.56s\tremaining: 413ms\n",
      "861:\tlearn: 0.4057154\ttotal: 2.56s\tremaining: 410ms\n",
      "862:\tlearn: 0.4055052\ttotal: 2.56s\tremaining: 407ms\n",
      "863:\tlearn: 0.4052268\ttotal: 2.57s\tremaining: 404ms\n",
      "864:\tlearn: 0.4051496\ttotal: 2.57s\tremaining: 401ms\n",
      "865:\tlearn: 0.4049392\ttotal: 2.57s\tremaining: 398ms\n",
      "866:\tlearn: 0.4046130\ttotal: 2.57s\tremaining: 395ms\n",
      "867:\tlearn: 0.4043983\ttotal: 2.57s\tremaining: 391ms\n",
      "868:\tlearn: 0.4042345\ttotal: 2.58s\tremaining: 388ms\n",
      "869:\tlearn: 0.4039389\ttotal: 2.58s\tremaining: 385ms\n",
      "870:\tlearn: 0.4038064\ttotal: 2.58s\tremaining: 382ms\n",
      "871:\tlearn: 0.4035107\ttotal: 2.58s\tremaining: 379ms\n",
      "872:\tlearn: 0.4033106\ttotal: 2.58s\tremaining: 376ms\n",
      "873:\tlearn: 0.4031820\ttotal: 2.58s\tremaining: 373ms\n",
      "874:\tlearn: 0.4029277\ttotal: 2.59s\tremaining: 370ms\n",
      "875:\tlearn: 0.4027554\ttotal: 2.59s\tremaining: 366ms\n",
      "876:\tlearn: 0.4026066\ttotal: 2.59s\tremaining: 363ms\n",
      "877:\tlearn: 0.4024338\ttotal: 2.59s\tremaining: 360ms\n",
      "878:\tlearn: 0.4021698\ttotal: 2.6s\tremaining: 357ms\n",
      "879:\tlearn: 0.4019661\ttotal: 2.6s\tremaining: 354ms\n",
      "880:\tlearn: 0.4017723\ttotal: 2.6s\tremaining: 351ms\n",
      "881:\tlearn: 0.4015298\ttotal: 2.6s\tremaining: 348ms\n",
      "882:\tlearn: 0.4012513\ttotal: 2.6s\tremaining: 345ms\n",
      "883:\tlearn: 0.4010158\ttotal: 2.6s\tremaining: 342ms\n",
      "884:\tlearn: 0.4008068\ttotal: 2.61s\tremaining: 339ms\n",
      "885:\tlearn: 0.4005405\ttotal: 2.61s\tremaining: 336ms\n",
      "886:\tlearn: 0.4003458\ttotal: 2.61s\tremaining: 333ms\n",
      "887:\tlearn: 0.4001033\ttotal: 2.61s\tremaining: 329ms\n",
      "888:\tlearn: 0.3998065\ttotal: 2.61s\tremaining: 326ms\n",
      "889:\tlearn: 0.3994703\ttotal: 2.62s\tremaining: 323ms\n",
      "890:\tlearn: 0.3992009\ttotal: 2.62s\tremaining: 320ms\n",
      "891:\tlearn: 0.3989896\ttotal: 2.63s\tremaining: 319ms\n",
      "892:\tlearn: 0.3987490\ttotal: 2.64s\tremaining: 316ms\n",
      "893:\tlearn: 0.3985148\ttotal: 2.64s\tremaining: 313ms\n",
      "894:\tlearn: 0.3982043\ttotal: 2.64s\tremaining: 310ms\n",
      "895:\tlearn: 0.3980192\ttotal: 2.64s\tremaining: 307ms\n",
      "896:\tlearn: 0.3976288\ttotal: 2.64s\tremaining: 304ms\n",
      "897:\tlearn: 0.3974248\ttotal: 2.65s\tremaining: 300ms\n",
      "898:\tlearn: 0.3970848\ttotal: 2.65s\tremaining: 297ms\n",
      "899:\tlearn: 0.3967760\ttotal: 2.65s\tremaining: 294ms\n",
      "900:\tlearn: 0.3965499\ttotal: 2.65s\tremaining: 291ms\n",
      "901:\tlearn: 0.3963207\ttotal: 2.65s\tremaining: 288ms\n",
      "902:\tlearn: 0.3961465\ttotal: 2.65s\tremaining: 285ms\n",
      "903:\tlearn: 0.3959297\ttotal: 2.65s\tremaining: 282ms\n",
      "904:\tlearn: 0.3956860\ttotal: 2.66s\tremaining: 279ms\n",
      "905:\tlearn: 0.3954596\ttotal: 2.66s\tremaining: 276ms\n",
      "906:\tlearn: 0.3953478\ttotal: 2.66s\tremaining: 273ms\n",
      "907:\tlearn: 0.3950313\ttotal: 2.66s\tremaining: 270ms\n",
      "908:\tlearn: 0.3948141\ttotal: 2.66s\tremaining: 267ms\n",
      "909:\tlearn: 0.3944980\ttotal: 2.67s\tremaining: 264ms\n",
      "910:\tlearn: 0.3942485\ttotal: 2.67s\tremaining: 261ms\n",
      "911:\tlearn: 0.3939407\ttotal: 2.67s\tremaining: 257ms\n",
      "912:\tlearn: 0.3937188\ttotal: 2.67s\tremaining: 254ms\n",
      "913:\tlearn: 0.3935903\ttotal: 2.67s\tremaining: 251ms\n",
      "914:\tlearn: 0.3933920\ttotal: 2.67s\tremaining: 248ms\n",
      "915:\tlearn: 0.3931190\ttotal: 2.67s\tremaining: 245ms\n",
      "916:\tlearn: 0.3929798\ttotal: 2.68s\tremaining: 242ms\n",
      "917:\tlearn: 0.3928397\ttotal: 2.68s\tremaining: 239ms\n",
      "918:\tlearn: 0.3926255\ttotal: 2.68s\tremaining: 236ms\n",
      "919:\tlearn: 0.3923459\ttotal: 2.68s\tremaining: 233ms\n",
      "920:\tlearn: 0.3921184\ttotal: 2.68s\tremaining: 230ms\n",
      "921:\tlearn: 0.3919016\ttotal: 2.69s\tremaining: 227ms\n",
      "922:\tlearn: 0.3916585\ttotal: 2.69s\tremaining: 224ms\n",
      "923:\tlearn: 0.3913430\ttotal: 2.69s\tremaining: 221ms\n",
      "924:\tlearn: 0.3911366\ttotal: 2.69s\tremaining: 218ms\n",
      "925:\tlearn: 0.3910278\ttotal: 2.69s\tremaining: 215ms\n",
      "926:\tlearn: 0.3907458\ttotal: 2.69s\tremaining: 212ms\n",
      "927:\tlearn: 0.3906691\ttotal: 2.7s\tremaining: 209ms\n",
      "928:\tlearn: 0.3904449\ttotal: 2.7s\tremaining: 206ms\n",
      "929:\tlearn: 0.3901740\ttotal: 2.7s\tremaining: 203ms\n",
      "930:\tlearn: 0.3900094\ttotal: 2.7s\tremaining: 200ms\n",
      "931:\tlearn: 0.3898085\ttotal: 2.7s\tremaining: 197ms\n",
      "932:\tlearn: 0.3895922\ttotal: 2.71s\tremaining: 194ms\n",
      "933:\tlearn: 0.3893597\ttotal: 2.71s\tremaining: 191ms\n",
      "934:\tlearn: 0.3891636\ttotal: 2.71s\tremaining: 188ms\n",
      "935:\tlearn: 0.3888713\ttotal: 2.71s\tremaining: 185ms\n",
      "936:\tlearn: 0.3886080\ttotal: 2.71s\tremaining: 182ms\n",
      "937:\tlearn: 0.3884315\ttotal: 2.71s\tremaining: 179ms\n",
      "938:\tlearn: 0.3883029\ttotal: 2.71s\tremaining: 176ms\n",
      "939:\tlearn: 0.3880173\ttotal: 2.72s\tremaining: 173ms\n",
      "940:\tlearn: 0.3878160\ttotal: 2.72s\tremaining: 170ms\n",
      "941:\tlearn: 0.3875136\ttotal: 2.72s\tremaining: 168ms\n",
      "942:\tlearn: 0.3872796\ttotal: 2.72s\tremaining: 165ms\n",
      "943:\tlearn: 0.3870817\ttotal: 2.73s\tremaining: 162ms\n",
      "944:\tlearn: 0.3869275\ttotal: 2.73s\tremaining: 159ms\n",
      "945:\tlearn: 0.3867654\ttotal: 2.73s\tremaining: 156ms\n",
      "946:\tlearn: 0.3866473\ttotal: 2.73s\tremaining: 153ms\n",
      "947:\tlearn: 0.3864711\ttotal: 2.74s\tremaining: 150ms\n",
      "948:\tlearn: 0.3862012\ttotal: 2.74s\tremaining: 147ms\n",
      "949:\tlearn: 0.3859199\ttotal: 2.74s\tremaining: 144ms\n",
      "950:\tlearn: 0.3855723\ttotal: 2.74s\tremaining: 141ms\n",
      "951:\tlearn: 0.3853619\ttotal: 2.74s\tremaining: 138ms\n",
      "952:\tlearn: 0.3851421\ttotal: 2.75s\tremaining: 135ms\n",
      "953:\tlearn: 0.3848675\ttotal: 2.75s\tremaining: 132ms\n",
      "954:\tlearn: 0.3844478\ttotal: 2.75s\tremaining: 130ms\n",
      "955:\tlearn: 0.3842384\ttotal: 2.75s\tremaining: 127ms\n",
      "956:\tlearn: 0.3840582\ttotal: 2.75s\tremaining: 124ms\n",
      "957:\tlearn: 0.3837411\ttotal: 2.75s\tremaining: 121ms\n",
      "958:\tlearn: 0.3835335\ttotal: 2.76s\tremaining: 118ms\n",
      "959:\tlearn: 0.3833652\ttotal: 2.76s\tremaining: 115ms\n",
      "960:\tlearn: 0.3832489\ttotal: 2.76s\tremaining: 112ms\n",
      "961:\tlearn: 0.3830346\ttotal: 2.76s\tremaining: 109ms\n",
      "962:\tlearn: 0.3828993\ttotal: 2.76s\tremaining: 106ms\n",
      "963:\tlearn: 0.3827343\ttotal: 2.77s\tremaining: 103ms\n",
      "964:\tlearn: 0.3825138\ttotal: 2.77s\tremaining: 100ms\n",
      "965:\tlearn: 0.3822940\ttotal: 2.77s\tremaining: 97.5ms\n",
      "966:\tlearn: 0.3820363\ttotal: 2.77s\tremaining: 94.6ms\n",
      "967:\tlearn: 0.3818873\ttotal: 2.77s\tremaining: 91.7ms\n",
      "968:\tlearn: 0.3815198\ttotal: 2.77s\tremaining: 88.8ms\n",
      "969:\tlearn: 0.3813105\ttotal: 2.78s\tremaining: 85.9ms\n",
      "970:\tlearn: 0.3810125\ttotal: 2.78s\tremaining: 83ms\n",
      "971:\tlearn: 0.3808313\ttotal: 2.78s\tremaining: 80.1ms\n",
      "972:\tlearn: 0.3805761\ttotal: 2.78s\tremaining: 77.2ms\n",
      "973:\tlearn: 0.3803744\ttotal: 2.78s\tremaining: 74.3ms\n",
      "974:\tlearn: 0.3800647\ttotal: 2.79s\tremaining: 71.4ms\n",
      "975:\tlearn: 0.3797912\ttotal: 2.79s\tremaining: 68.5ms\n",
      "976:\tlearn: 0.3795572\ttotal: 2.79s\tremaining: 65.7ms\n",
      "977:\tlearn: 0.3793804\ttotal: 2.79s\tremaining: 62.8ms\n",
      "978:\tlearn: 0.3791907\ttotal: 2.79s\tremaining: 59.9ms\n",
      "979:\tlearn: 0.3788562\ttotal: 2.79s\tremaining: 57.1ms\n",
      "980:\tlearn: 0.3785597\ttotal: 2.8s\tremaining: 54.2ms\n",
      "981:\tlearn: 0.3784033\ttotal: 2.8s\tremaining: 51.3ms\n",
      "982:\tlearn: 0.3782917\ttotal: 2.8s\tremaining: 48.5ms\n",
      "983:\tlearn: 0.3780620\ttotal: 2.8s\tremaining: 45.6ms\n",
      "984:\tlearn: 0.3778741\ttotal: 2.81s\tremaining: 42.7ms\n",
      "985:\tlearn: 0.3777143\ttotal: 2.81s\tremaining: 39.9ms\n",
      "986:\tlearn: 0.3774176\ttotal: 2.81s\tremaining: 37ms\n",
      "987:\tlearn: 0.3772468\ttotal: 2.81s\tremaining: 34.1ms\n",
      "988:\tlearn: 0.3771019\ttotal: 2.81s\tremaining: 31.3ms\n",
      "989:\tlearn: 0.3769424\ttotal: 2.81s\tremaining: 28.4ms\n",
      "990:\tlearn: 0.3768184\ttotal: 2.82s\tremaining: 25.6ms\n",
      "991:\tlearn: 0.3765289\ttotal: 2.82s\tremaining: 22.7ms\n",
      "992:\tlearn: 0.3763014\ttotal: 2.82s\tremaining: 19.9ms\n",
      "993:\tlearn: 0.3760208\ttotal: 2.82s\tremaining: 17ms\n",
      "994:\tlearn: 0.3758911\ttotal: 2.82s\tremaining: 14.2ms\n",
      "995:\tlearn: 0.3757646\ttotal: 2.82s\tremaining: 11.3ms\n",
      "996:\tlearn: 0.3755011\ttotal: 2.83s\tremaining: 8.51ms\n",
      "997:\tlearn: 0.3753636\ttotal: 2.83s\tremaining: 5.67ms\n",
      "998:\tlearn: 0.3751662\ttotal: 2.83s\tremaining: 2.83ms\n",
      "999:\tlearn: 0.3749975\ttotal: 2.83s\tremaining: 0us\n"
     ]
    },
    {
     "data": {
      "text/plain": [
       "<catboost.core.CatBoostClassifier at 0x1d2b66cc648>"
      ]
     },
     "execution_count": 40,
     "metadata": {},
     "output_type": "execute_result"
    }
   ],
   "source": [
    "from catboost import CatBoostClassifier\n",
    "cat_class = CatBoostClassifier()\n",
    "cat_class.fit(X_train, y_train)"
   ]
  },
  {
   "cell_type": "code",
   "execution_count": 41,
   "metadata": {},
   "outputs": [
    {
     "name": "stdout",
     "output_type": "stream",
     "text": [
      "0.5994475138121547\n",
      "[[440 373]\n",
      " [352 645]]\n",
      "              precision    recall  f1-score   support\n",
      "\n",
      "           1     0.5556    0.5412    0.5483       813\n",
      "           2     0.6336    0.6469    0.6402       997\n",
      "\n",
      "    accuracy                         0.5994      1810\n",
      "   macro avg     0.5946    0.5941    0.5942      1810\n",
      "weighted avg     0.5985    0.5994    0.5989      1810\n",
      "\n"
     ]
    }
   ],
   "source": [
    "y_test_pred = cat_class.predict(X_test)\n",
    "print(accuracy_score(y_test, y_test_pred))\n",
    "print(confusion_matrix(y_test, y_test_pred))\n",
    "print(classification_report(y_test, y_test_pred, digits=4))"
   ]
  },
  {
   "cell_type": "code",
   "execution_count": 42,
   "metadata": {},
   "outputs": [],
   "source": [
    "X_train.to_csv('X_train_feat_norm_agg.csv', index=False)\n",
    "y_train.to_csv('y_train_feat_norm_agg.csv', index=False)\n",
    "X_test.to_csv('X_test_feat_norm_agg.csv', index=False)\n",
    "y_test.to_csv('y_test_feat_norm_agg.csv', index=False)"
   ]
  },
  {
   "cell_type": "code",
   "execution_count": null,
   "metadata": {},
   "outputs": [],
   "source": [
    "# lgbm_class"
   ]
  },
  {
   "cell_type": "code",
   "execution_count": 43,
   "metadata": {},
   "outputs": [
    {
     "data": {
      "text/plain": [
       "['lgbm_class_norm_agg.pkl']"
      ]
     },
     "execution_count": 43,
     "metadata": {},
     "output_type": "execute_result"
    }
   ],
   "source": [
    "import joblib\n",
    "joblib.dump(lgbm_class, 'lgbm_class_norm_agg.pkl')"
   ]
  },
  {
   "cell_type": "code",
   "execution_count": null,
   "metadata": {},
   "outputs": [],
   "source": []
  },
  {
   "cell_type": "code",
   "execution_count": null,
   "metadata": {},
   "outputs": [],
   "source": []
  },
  {
   "cell_type": "code",
   "execution_count": null,
   "metadata": {},
   "outputs": [],
   "source": []
  },
  {
   "cell_type": "code",
   "execution_count": null,
   "metadata": {},
   "outputs": [],
   "source": []
  },
  {
   "cell_type": "code",
   "execution_count": null,
   "metadata": {},
   "outputs": [],
   "source": []
  },
  {
   "cell_type": "code",
   "execution_count": null,
   "metadata": {},
   "outputs": [],
   "source": []
  },
  {
   "cell_type": "code",
   "execution_count": null,
   "metadata": {},
   "outputs": [],
   "source": []
  },
  {
   "cell_type": "code",
   "execution_count": null,
   "metadata": {},
   "outputs": [],
   "source": []
  },
  {
   "cell_type": "code",
   "execution_count": null,
   "metadata": {},
   "outputs": [],
   "source": []
  }
 ],
 "metadata": {
  "kernelspec": {
   "display_name": "torchpy37",
   "language": "python",
   "name": "python3"
  },
  "language_info": {
   "codemirror_mode": {
    "name": "ipython",
    "version": 3
   },
   "file_extension": ".py",
   "mimetype": "text/x-python",
   "name": "python",
   "nbconvert_exporter": "python",
   "pygments_lexer": "ipython3",
   "version": "3.7.13"
  }
 },
 "nbformat": 4,
 "nbformat_minor": 2
}
