{
 "cells": [
  {
   "cell_type": "code",
   "execution_count": 1,
   "metadata": {},
   "outputs": [],
   "source": [
    "import pandas as pd\n",
    "import numpy as np\n",
    "import matplotlib.pyplot as plt\n",
    "import seaborn as sns\n",
    "from scipy import signal\n",
    "from sklearn.model_selection import train_test_split,StratifiedKFold\n",
    "from sklearn.ensemble import RandomForestClassifier\n",
    "from sklearn.svm import SVC\n",
    "from sklearn.linear_model import LogisticRegression\n",
    "from sklearn.naive_bayes import GaussianNB\n",
    "from sklearn.metrics import classification_report,accuracy_score,ConfusionMatrixDisplay,confusion_matrix,precision_score,recall_score,roc_curve,roc_auc_score,balanced_accuracy_score\n",
    "from sklearn.pipeline import make_pipeline\n",
    "from sklearn.preprocessing import StandardScaler\n",
    "from xgboost import XGBClassifier\n",
    "import datetime\n",
    "from dataclasses import dataclass\n",
    "from statsmodels.tsa.holtwinters import SimpleExpSmoothing\n",
    "from scipy.ndimage import gaussian_filter1d\n",
    "from itertools import combinations as comb\n",
    "from pyts.image import RecurrencePlot\n",
    "import PIL\n",
    "from sklearn.utils import class_weight\n",
    "from sklearn.model_selection import RandomizedSearchCV,GridSearchCV,StratifiedKFold\n",
    "from unidecode import unidecode"
   ]
  },
  {
   "cell_type": "code",
   "execution_count": 2,
   "metadata": {},
   "outputs": [
    {
     "name": "stdout",
     "output_type": "stream",
     "text": [
      "(3644, 8)\n",
      "(3084, 8)\n"
     ]
    }
   ],
   "source": [
    "train_data = pd.read_csv('./dataset/dataset_1/train_motion_data.csv')\n",
    "test_data = pd.read_csv('./dataset/dataset_1/test_motion_data.csv')\n",
    "print(train_data.shape)\n",
    "print(test_data.shape)"
   ]
  },
  {
   "cell_type": "code",
   "execution_count": 5,
   "metadata": {},
   "outputs": [],
   "source": [
    "X_train = train_data[['AccX', 'AccY', 'AccZ', 'GyroX', 'GyroY', 'GyroZ']]\n",
    "train_data.Class=train_data.Class.replace(['AGGRESSIVE', 'NORMAL', 'SLOW'],[1,2,3])\n",
    "y_train = train_data[['Class']]"
   ]
  },
  {
   "cell_type": "code",
   "execution_count": 6,
   "metadata": {},
   "outputs": [
    {
     "name": "stdout",
     "output_type": "stream",
     "text": [
      "(3644, 6)\n",
      "(3644, 1)\n"
     ]
    }
   ],
   "source": [
    "print(X_train.shape)\n",
    "print(y_train.shape)"
   ]
  },
  {
   "cell_type": "code",
   "execution_count": 7,
   "metadata": {},
   "outputs": [],
   "source": [
    "X_test = test_data[['AccX', 'AccY', 'AccZ', 'GyroX', 'GyroY', 'GyroZ']]\n",
    "test_data.Class=test_data.Class.replace(['AGGRESSIVE', 'NORMAL', 'SLOW'],[1,2,3])\n",
    "y_test = test_data[['Class']]"
   ]
  },
  {
   "cell_type": "code",
   "execution_count": 8,
   "metadata": {},
   "outputs": [
    {
     "name": "stdout",
     "output_type": "stream",
     "text": [
      "(3084, 6)\n",
      "(3084, 1)\n"
     ]
    }
   ],
   "source": [
    "print(X_test.shape)\n",
    "print(y_test.shape)"
   ]
  },
  {
   "cell_type": "code",
   "execution_count": 9,
   "metadata": {},
   "outputs": [],
   "source": [
    "X_concat = pd.concat([X_train, X_test])\n",
    "y_concat = pd.concat([y_train, y_test])\n",
    "\n",
    "X_and_y_concat = pd.concat([X_concat, y_concat], axis=1)"
   ]
  },
  {
   "cell_type": "code",
   "execution_count": 10,
   "metadata": {},
   "outputs": [
    {
     "name": "stdout",
     "output_type": "stream",
     "text": [
      "(6728, 7)\n"
     ]
    }
   ],
   "source": [
    "print(X_and_y_concat.shape)"
   ]
  },
  {
   "cell_type": "code",
   "execution_count": 11,
   "metadata": {},
   "outputs": [
    {
     "data": {
      "text/html": [
       "<div>\n",
       "<style scoped>\n",
       "    .dataframe tbody tr th:only-of-type {\n",
       "        vertical-align: middle;\n",
       "    }\n",
       "\n",
       "    .dataframe tbody tr th {\n",
       "        vertical-align: top;\n",
       "    }\n",
       "\n",
       "    .dataframe thead th {\n",
       "        text-align: right;\n",
       "    }\n",
       "</style>\n",
       "<table border=\"1\" class=\"dataframe\">\n",
       "  <thead>\n",
       "    <tr style=\"text-align: right;\">\n",
       "      <th></th>\n",
       "      <th>AccX</th>\n",
       "      <th>AccY</th>\n",
       "      <th>AccZ</th>\n",
       "      <th>GyroX</th>\n",
       "      <th>GyroY</th>\n",
       "      <th>GyroZ</th>\n",
       "      <th>Class</th>\n",
       "    </tr>\n",
       "  </thead>\n",
       "  <tbody>\n",
       "    <tr>\n",
       "      <th>0</th>\n",
       "      <td>0.000000</td>\n",
       "      <td>0.000000</td>\n",
       "      <td>0.000000</td>\n",
       "      <td>0.059407</td>\n",
       "      <td>-0.174707</td>\n",
       "      <td>0.101938</td>\n",
       "      <td>2</td>\n",
       "    </tr>\n",
       "    <tr>\n",
       "      <th>1</th>\n",
       "      <td>-1.624864</td>\n",
       "      <td>-1.082492</td>\n",
       "      <td>-0.204183</td>\n",
       "      <td>-0.028558</td>\n",
       "      <td>0.051313</td>\n",
       "      <td>0.135536</td>\n",
       "      <td>2</td>\n",
       "    </tr>\n",
       "    <tr>\n",
       "      <th>2</th>\n",
       "      <td>-0.594660</td>\n",
       "      <td>-0.122410</td>\n",
       "      <td>0.220502</td>\n",
       "      <td>-0.019395</td>\n",
       "      <td>-0.029322</td>\n",
       "      <td>0.087888</td>\n",
       "      <td>2</td>\n",
       "    </tr>\n",
       "    <tr>\n",
       "      <th>3</th>\n",
       "      <td>0.738478</td>\n",
       "      <td>-0.228456</td>\n",
       "      <td>0.667732</td>\n",
       "      <td>0.069791</td>\n",
       "      <td>-0.029932</td>\n",
       "      <td>0.054902</td>\n",
       "      <td>2</td>\n",
       "    </tr>\n",
       "    <tr>\n",
       "      <th>4</th>\n",
       "      <td>0.101741</td>\n",
       "      <td>0.777568</td>\n",
       "      <td>-0.066730</td>\n",
       "      <td>0.030696</td>\n",
       "      <td>-0.003665</td>\n",
       "      <td>0.054902</td>\n",
       "      <td>2</td>\n",
       "    </tr>\n",
       "  </tbody>\n",
       "</table>\n",
       "</div>"
      ],
      "text/plain": [
       "       AccX      AccY      AccZ     GyroX     GyroY     GyroZ  Class\n",
       "0  0.000000  0.000000  0.000000  0.059407 -0.174707  0.101938      2\n",
       "1 -1.624864 -1.082492 -0.204183 -0.028558  0.051313  0.135536      2\n",
       "2 -0.594660 -0.122410  0.220502 -0.019395 -0.029322  0.087888      2\n",
       "3  0.738478 -0.228456  0.667732  0.069791 -0.029932  0.054902      2\n",
       "4  0.101741  0.777568 -0.066730  0.030696 -0.003665  0.054902      2"
      ]
     },
     "execution_count": 11,
     "metadata": {},
     "output_type": "execute_result"
    }
   ],
   "source": [
    "X_and_y_concat.head()"
   ]
  },
  {
   "cell_type": "code",
   "execution_count": 12,
   "metadata": {},
   "outputs": [
    {
     "data": {
      "text/html": [
       "<div>\n",
       "<style scoped>\n",
       "    .dataframe tbody tr th:only-of-type {\n",
       "        vertical-align: middle;\n",
       "    }\n",
       "\n",
       "    .dataframe tbody tr th {\n",
       "        vertical-align: top;\n",
       "    }\n",
       "\n",
       "    .dataframe thead th {\n",
       "        text-align: right;\n",
       "    }\n",
       "</style>\n",
       "<table border=\"1\" class=\"dataframe\">\n",
       "  <thead>\n",
       "    <tr style=\"text-align: right;\">\n",
       "      <th></th>\n",
       "      <th>AccX</th>\n",
       "      <th>AccY</th>\n",
       "      <th>AccZ</th>\n",
       "      <th>GyroX</th>\n",
       "      <th>GyroY</th>\n",
       "      <th>GyroZ</th>\n",
       "      <th>Class</th>\n",
       "    </tr>\n",
       "  </thead>\n",
       "  <tbody>\n",
       "    <tr>\n",
       "      <th>3079</th>\n",
       "      <td>-0.713858</td>\n",
       "      <td>-0.652975</td>\n",
       "      <td>-0.164015</td>\n",
       "      <td>-0.147829</td>\n",
       "      <td>-1.309466</td>\n",
       "      <td>0.517250</td>\n",
       "      <td>3</td>\n",
       "    </tr>\n",
       "    <tr>\n",
       "      <th>3080</th>\n",
       "      <td>1.514261</td>\n",
       "      <td>0.330070</td>\n",
       "      <td>1.020714</td>\n",
       "      <td>1.321302</td>\n",
       "      <td>1.707598</td>\n",
       "      <td>-0.674548</td>\n",
       "      <td>3</td>\n",
       "    </tr>\n",
       "    <tr>\n",
       "      <th>3081</th>\n",
       "      <td>1.280216</td>\n",
       "      <td>-1.735172</td>\n",
       "      <td>-2.332695</td>\n",
       "      <td>0.583376</td>\n",
       "      <td>0.690507</td>\n",
       "      <td>-0.468075</td>\n",
       "      <td>3</td>\n",
       "    </tr>\n",
       "    <tr>\n",
       "      <th>3082</th>\n",
       "      <td>0.912313</td>\n",
       "      <td>0.583314</td>\n",
       "      <td>-0.965622</td>\n",
       "      <td>0.235794</td>\n",
       "      <td>0.512745</td>\n",
       "      <td>0.406073</td>\n",
       "      <td>3</td>\n",
       "    </tr>\n",
       "    <tr>\n",
       "      <th>3083</th>\n",
       "      <td>1.462172</td>\n",
       "      <td>0.190287</td>\n",
       "      <td>0.019377</td>\n",
       "      <td>-0.254731</td>\n",
       "      <td>-0.279547</td>\n",
       "      <td>0.076205</td>\n",
       "      <td>3</td>\n",
       "    </tr>\n",
       "  </tbody>\n",
       "</table>\n",
       "</div>"
      ],
      "text/plain": [
       "          AccX      AccY      AccZ     GyroX     GyroY     GyroZ  Class\n",
       "3079 -0.713858 -0.652975 -0.164015 -0.147829 -1.309466  0.517250      3\n",
       "3080  1.514261  0.330070  1.020714  1.321302  1.707598 -0.674548      3\n",
       "3081  1.280216 -1.735172 -2.332695  0.583376  0.690507 -0.468075      3\n",
       "3082  0.912313  0.583314 -0.965622  0.235794  0.512745  0.406073      3\n",
       "3083  1.462172  0.190287  0.019377 -0.254731 -0.279547  0.076205      3"
      ]
     },
     "execution_count": 12,
     "metadata": {},
     "output_type": "execute_result"
    }
   ],
   "source": [
    "X_and_y_concat.tail()"
   ]
  },
  {
   "cell_type": "code",
   "execution_count": 13,
   "metadata": {},
   "outputs": [
    {
     "data": {
      "text/html": [
       "<div>\n",
       "<style scoped>\n",
       "    .dataframe tbody tr th:only-of-type {\n",
       "        vertical-align: middle;\n",
       "    }\n",
       "\n",
       "    .dataframe tbody tr th {\n",
       "        vertical-align: top;\n",
       "    }\n",
       "\n",
       "    .dataframe thead th {\n",
       "        text-align: right;\n",
       "    }\n",
       "</style>\n",
       "<table border=\"1\" class=\"dataframe\">\n",
       "  <thead>\n",
       "    <tr style=\"text-align: right;\">\n",
       "      <th></th>\n",
       "      <th>AccX</th>\n",
       "      <th>AccY</th>\n",
       "      <th>AccZ</th>\n",
       "      <th>GyroX</th>\n",
       "      <th>GyroY</th>\n",
       "      <th>GyroZ</th>\n",
       "    </tr>\n",
       "  </thead>\n",
       "  <tbody>\n",
       "    <tr>\n",
       "      <th>3079</th>\n",
       "      <td>-0.713858</td>\n",
       "      <td>-0.652975</td>\n",
       "      <td>-0.164015</td>\n",
       "      <td>-0.147829</td>\n",
       "      <td>-1.309466</td>\n",
       "      <td>0.517250</td>\n",
       "    </tr>\n",
       "    <tr>\n",
       "      <th>3080</th>\n",
       "      <td>1.514261</td>\n",
       "      <td>0.330070</td>\n",
       "      <td>1.020714</td>\n",
       "      <td>1.321302</td>\n",
       "      <td>1.707598</td>\n",
       "      <td>-0.674548</td>\n",
       "    </tr>\n",
       "    <tr>\n",
       "      <th>3081</th>\n",
       "      <td>1.280216</td>\n",
       "      <td>-1.735172</td>\n",
       "      <td>-2.332695</td>\n",
       "      <td>0.583376</td>\n",
       "      <td>0.690507</td>\n",
       "      <td>-0.468075</td>\n",
       "    </tr>\n",
       "    <tr>\n",
       "      <th>3082</th>\n",
       "      <td>0.912313</td>\n",
       "      <td>0.583314</td>\n",
       "      <td>-0.965622</td>\n",
       "      <td>0.235794</td>\n",
       "      <td>0.512745</td>\n",
       "      <td>0.406073</td>\n",
       "    </tr>\n",
       "    <tr>\n",
       "      <th>3083</th>\n",
       "      <td>1.462172</td>\n",
       "      <td>0.190287</td>\n",
       "      <td>0.019377</td>\n",
       "      <td>-0.254731</td>\n",
       "      <td>-0.279547</td>\n",
       "      <td>0.076205</td>\n",
       "    </tr>\n",
       "  </tbody>\n",
       "</table>\n",
       "</div>"
      ],
      "text/plain": [
       "          AccX      AccY      AccZ     GyroX     GyroY     GyroZ\n",
       "3079 -0.713858 -0.652975 -0.164015 -0.147829 -1.309466  0.517250\n",
       "3080  1.514261  0.330070  1.020714  1.321302  1.707598 -0.674548\n",
       "3081  1.280216 -1.735172 -2.332695  0.583376  0.690507 -0.468075\n",
       "3082  0.912313  0.583314 -0.965622  0.235794  0.512745  0.406073\n",
       "3083  1.462172  0.190287  0.019377 -0.254731 -0.279547  0.076205"
      ]
     },
     "execution_count": 13,
     "metadata": {},
     "output_type": "execute_result"
    }
   ],
   "source": [
    "X_test.tail()"
   ]
  },
  {
   "cell_type": "code",
   "execution_count": 14,
   "metadata": {},
   "outputs": [
    {
     "data": {
      "text/html": [
       "<div>\n",
       "<style scoped>\n",
       "    .dataframe tbody tr th:only-of-type {\n",
       "        vertical-align: middle;\n",
       "    }\n",
       "\n",
       "    .dataframe tbody tr th {\n",
       "        vertical-align: top;\n",
       "    }\n",
       "\n",
       "    .dataframe thead th {\n",
       "        text-align: right;\n",
       "    }\n",
       "</style>\n",
       "<table border=\"1\" class=\"dataframe\">\n",
       "  <thead>\n",
       "    <tr style=\"text-align: right;\">\n",
       "      <th></th>\n",
       "      <th>Class</th>\n",
       "    </tr>\n",
       "  </thead>\n",
       "  <tbody>\n",
       "    <tr>\n",
       "      <th>3079</th>\n",
       "      <td>3</td>\n",
       "    </tr>\n",
       "    <tr>\n",
       "      <th>3080</th>\n",
       "      <td>3</td>\n",
       "    </tr>\n",
       "    <tr>\n",
       "      <th>3081</th>\n",
       "      <td>3</td>\n",
       "    </tr>\n",
       "    <tr>\n",
       "      <th>3082</th>\n",
       "      <td>3</td>\n",
       "    </tr>\n",
       "    <tr>\n",
       "      <th>3083</th>\n",
       "      <td>3</td>\n",
       "    </tr>\n",
       "  </tbody>\n",
       "</table>\n",
       "</div>"
      ],
      "text/plain": [
       "      Class\n",
       "3079      3\n",
       "3080      3\n",
       "3081      3\n",
       "3082      3\n",
       "3083      3"
      ]
     },
     "execution_count": 14,
     "metadata": {},
     "output_type": "execute_result"
    }
   ],
   "source": [
    "y_test.tail()"
   ]
  },
  {
   "cell_type": "code",
   "execution_count": 15,
   "metadata": {},
   "outputs": [],
   "source": [
    "X_and_y_concat = X_and_y_concat.reset_index(drop=True)"
   ]
  },
  {
   "cell_type": "code",
   "execution_count": 16,
   "metadata": {},
   "outputs": [
    {
     "data": {
      "text/html": [
       "<div>\n",
       "<style scoped>\n",
       "    .dataframe tbody tr th:only-of-type {\n",
       "        vertical-align: middle;\n",
       "    }\n",
       "\n",
       "    .dataframe tbody tr th {\n",
       "        vertical-align: top;\n",
       "    }\n",
       "\n",
       "    .dataframe thead th {\n",
       "        text-align: right;\n",
       "    }\n",
       "</style>\n",
       "<table border=\"1\" class=\"dataframe\">\n",
       "  <thead>\n",
       "    <tr style=\"text-align: right;\">\n",
       "      <th></th>\n",
       "      <th>AccX</th>\n",
       "      <th>AccY</th>\n",
       "      <th>AccZ</th>\n",
       "      <th>GyroX</th>\n",
       "      <th>GyroY</th>\n",
       "      <th>GyroZ</th>\n",
       "      <th>Class</th>\n",
       "    </tr>\n",
       "  </thead>\n",
       "  <tbody>\n",
       "    <tr>\n",
       "      <th>6723</th>\n",
       "      <td>-0.713858</td>\n",
       "      <td>-0.652975</td>\n",
       "      <td>-0.164015</td>\n",
       "      <td>-0.147829</td>\n",
       "      <td>-1.309466</td>\n",
       "      <td>0.517250</td>\n",
       "      <td>3</td>\n",
       "    </tr>\n",
       "    <tr>\n",
       "      <th>6724</th>\n",
       "      <td>1.514261</td>\n",
       "      <td>0.330070</td>\n",
       "      <td>1.020714</td>\n",
       "      <td>1.321302</td>\n",
       "      <td>1.707598</td>\n",
       "      <td>-0.674548</td>\n",
       "      <td>3</td>\n",
       "    </tr>\n",
       "    <tr>\n",
       "      <th>6725</th>\n",
       "      <td>1.280216</td>\n",
       "      <td>-1.735172</td>\n",
       "      <td>-2.332695</td>\n",
       "      <td>0.583376</td>\n",
       "      <td>0.690507</td>\n",
       "      <td>-0.468075</td>\n",
       "      <td>3</td>\n",
       "    </tr>\n",
       "    <tr>\n",
       "      <th>6726</th>\n",
       "      <td>0.912313</td>\n",
       "      <td>0.583314</td>\n",
       "      <td>-0.965622</td>\n",
       "      <td>0.235794</td>\n",
       "      <td>0.512745</td>\n",
       "      <td>0.406073</td>\n",
       "      <td>3</td>\n",
       "    </tr>\n",
       "    <tr>\n",
       "      <th>6727</th>\n",
       "      <td>1.462172</td>\n",
       "      <td>0.190287</td>\n",
       "      <td>0.019377</td>\n",
       "      <td>-0.254731</td>\n",
       "      <td>-0.279547</td>\n",
       "      <td>0.076205</td>\n",
       "      <td>3</td>\n",
       "    </tr>\n",
       "  </tbody>\n",
       "</table>\n",
       "</div>"
      ],
      "text/plain": [
       "          AccX      AccY      AccZ     GyroX     GyroY     GyroZ  Class\n",
       "6723 -0.713858 -0.652975 -0.164015 -0.147829 -1.309466  0.517250      3\n",
       "6724  1.514261  0.330070  1.020714  1.321302  1.707598 -0.674548      3\n",
       "6725  1.280216 -1.735172 -2.332695  0.583376  0.690507 -0.468075      3\n",
       "6726  0.912313  0.583314 -0.965622  0.235794  0.512745  0.406073      3\n",
       "6727  1.462172  0.190287  0.019377 -0.254731 -0.279547  0.076205      3"
      ]
     },
     "execution_count": 16,
     "metadata": {},
     "output_type": "execute_result"
    }
   ],
   "source": [
    "X_and_y_concat.tail()"
   ]
  },
  {
   "cell_type": "code",
   "execution_count": 18,
   "metadata": {},
   "outputs": [
    {
     "data": {
      "text/html": [
       "<div>\n",
       "<style scoped>\n",
       "    .dataframe tbody tr th:only-of-type {\n",
       "        vertical-align: middle;\n",
       "    }\n",
       "\n",
       "    .dataframe tbody tr th {\n",
       "        vertical-align: top;\n",
       "    }\n",
       "\n",
       "    .dataframe thead th {\n",
       "        text-align: right;\n",
       "    }\n",
       "</style>\n",
       "<table border=\"1\" class=\"dataframe\">\n",
       "  <thead>\n",
       "    <tr style=\"text-align: right;\">\n",
       "      <th></th>\n",
       "      <th>AccX</th>\n",
       "      <th>AccY</th>\n",
       "      <th>AccZ</th>\n",
       "      <th>GyroX</th>\n",
       "      <th>GyroY</th>\n",
       "      <th>GyroZ</th>\n",
       "    </tr>\n",
       "  </thead>\n",
       "  <tbody>\n",
       "    <tr>\n",
       "      <th>0</th>\n",
       "      <td>0.000000</td>\n",
       "      <td>0.000000</td>\n",
       "      <td>0.000000</td>\n",
       "      <td>0.059407</td>\n",
       "      <td>-0.174707</td>\n",
       "      <td>0.101938</td>\n",
       "    </tr>\n",
       "    <tr>\n",
       "      <th>1</th>\n",
       "      <td>-1.624864</td>\n",
       "      <td>-1.082492</td>\n",
       "      <td>-0.204183</td>\n",
       "      <td>-0.028558</td>\n",
       "      <td>0.051313</td>\n",
       "      <td>0.135536</td>\n",
       "    </tr>\n",
       "    <tr>\n",
       "      <th>2</th>\n",
       "      <td>-0.594660</td>\n",
       "      <td>-0.122410</td>\n",
       "      <td>0.220502</td>\n",
       "      <td>-0.019395</td>\n",
       "      <td>-0.029322</td>\n",
       "      <td>0.087888</td>\n",
       "    </tr>\n",
       "    <tr>\n",
       "      <th>3</th>\n",
       "      <td>0.738478</td>\n",
       "      <td>-0.228456</td>\n",
       "      <td>0.667732</td>\n",
       "      <td>0.069791</td>\n",
       "      <td>-0.029932</td>\n",
       "      <td>0.054902</td>\n",
       "    </tr>\n",
       "    <tr>\n",
       "      <th>4</th>\n",
       "      <td>0.101741</td>\n",
       "      <td>0.777568</td>\n",
       "      <td>-0.066730</td>\n",
       "      <td>0.030696</td>\n",
       "      <td>-0.003665</td>\n",
       "      <td>0.054902</td>\n",
       "    </tr>\n",
       "  </tbody>\n",
       "</table>\n",
       "</div>"
      ],
      "text/plain": [
       "       AccX      AccY      AccZ     GyroX     GyroY     GyroZ\n",
       "0  0.000000  0.000000  0.000000  0.059407 -0.174707  0.101938\n",
       "1 -1.624864 -1.082492 -0.204183 -0.028558  0.051313  0.135536\n",
       "2 -0.594660 -0.122410  0.220502 -0.019395 -0.029322  0.087888\n",
       "3  0.738478 -0.228456  0.667732  0.069791 -0.029932  0.054902\n",
       "4  0.101741  0.777568 -0.066730  0.030696 -0.003665  0.054902"
      ]
     },
     "execution_count": 18,
     "metadata": {},
     "output_type": "execute_result"
    }
   ],
   "source": [
    "X_data = X_and_y_concat[['AccX', 'AccY', 'AccZ', 'GyroX', 'GyroY', 'GyroZ']]\n",
    "X_data.head()"
   ]
  },
  {
   "cell_type": "code",
   "execution_count": 19,
   "metadata": {},
   "outputs": [
    {
     "data": {
      "text/html": [
       "<div>\n",
       "<style scoped>\n",
       "    .dataframe tbody tr th:only-of-type {\n",
       "        vertical-align: middle;\n",
       "    }\n",
       "\n",
       "    .dataframe tbody tr th {\n",
       "        vertical-align: top;\n",
       "    }\n",
       "\n",
       "    .dataframe thead th {\n",
       "        text-align: right;\n",
       "    }\n",
       "</style>\n",
       "<table border=\"1\" class=\"dataframe\">\n",
       "  <thead>\n",
       "    <tr style=\"text-align: right;\">\n",
       "      <th></th>\n",
       "      <th>Class</th>\n",
       "    </tr>\n",
       "  </thead>\n",
       "  <tbody>\n",
       "    <tr>\n",
       "      <th>0</th>\n",
       "      <td>2</td>\n",
       "    </tr>\n",
       "    <tr>\n",
       "      <th>1</th>\n",
       "      <td>2</td>\n",
       "    </tr>\n",
       "    <tr>\n",
       "      <th>2</th>\n",
       "      <td>2</td>\n",
       "    </tr>\n",
       "    <tr>\n",
       "      <th>3</th>\n",
       "      <td>2</td>\n",
       "    </tr>\n",
       "    <tr>\n",
       "      <th>4</th>\n",
       "      <td>2</td>\n",
       "    </tr>\n",
       "  </tbody>\n",
       "</table>\n",
       "</div>"
      ],
      "text/plain": [
       "   Class\n",
       "0      2\n",
       "1      2\n",
       "2      2\n",
       "3      2\n",
       "4      2"
      ]
     },
     "execution_count": 19,
     "metadata": {},
     "output_type": "execute_result"
    }
   ],
   "source": [
    "y_data = X_and_y_concat[['Class']]\n",
    "y_data.head()"
   ]
  },
  {
   "cell_type": "code",
   "execution_count": 21,
   "metadata": {},
   "outputs": [
    {
     "name": "stdout",
     "output_type": "stream",
     "text": [
      "Train set size: 4709 4709\n",
      "Validation set size: 673 673\n",
      "Test set size: 1346 1346\n"
     ]
    }
   ],
   "source": [
    "# Train (70%)과 Temp (30%)로 먼저 분할\n",
    "train_size = 0.7\n",
    "temp_size = 0.3\n",
    "\n",
    "X_train, X_temp, y_train, y_temp = train_test_split(X_data, y_data, train_size=train_size, test_size=temp_size, random_state=42)\n",
    "\n",
    "# Temp (30%)을 Val (10%)과 Test (20%)로 분할\n",
    "val_size = 1/3  # temp_df의 1/3은 전체의 10%가 됨\n",
    "test_size = 2/3  # temp_df의 2/3은 전체의 20%가 됨\n",
    "\n",
    "X_val, X_test, y_val, y_test = train_test_split(X_temp, y_temp, train_size=val_size, test_size=test_size, random_state=42)\n",
    "\n",
    "# 결과 확인\n",
    "print(\"Train set size:\", len(X_train), len(y_train))\n",
    "print(\"Validation set size:\", len(X_val), len(y_val))\n",
    "print(\"Test set size:\", len(X_test), len(y_test))\n",
    "\n",
    "# # 데이터프레임 확인\n",
    "# print(X_train.head(), y_train.head())\n",
    "# print(X_val.head(), y_val.head())\n",
    "# print(X_test.head(), y_test.head())"
   ]
  },
  {
   "cell_type": "code",
   "execution_count": 22,
   "metadata": {},
   "outputs": [
    {
     "name": "stderr",
     "output_type": "stream",
     "text": [
      "c:\\Users\\MILAB\\Anaconda3\\envs\\torchpy37\\lib\\site-packages\\sklearn\\utils\\validation.py:993: DataConversionWarning: A column-vector y was passed when a 1d array was expected. Please change the shape of y to (n_samples, ), for example using ravel().\n",
      "  y = column_or_1d(y, warn=True)\n"
     ]
    },
    {
     "data": {
      "text/plain": [
       "LogisticRegression(C=100.0, max_iter=200, multi_class='ovr', random_state=17)"
      ]
     },
     "execution_count": 22,
     "metadata": {},
     "output_type": "execute_result"
    }
   ],
   "source": [
    "from sklearn.linear_model import LogisticRegression\n",
    "Logit = LogisticRegression(C=1e2,\n",
    "                          multi_class='ovr',\n",
    "                          random_state=17,\n",
    "                          max_iter=200\n",
    "                          )\n",
    "Logit.fit(X_train, y_train)"
   ]
  },
  {
   "cell_type": "code",
   "execution_count": 23,
   "metadata": {},
   "outputs": [
    {
     "name": "stdout",
     "output_type": "stream",
     "text": [
      "[3 3 3 3 3]\n",
      "[[0.30868658 0.33393874 0.35737468]\n",
      " [0.30498976 0.32292898 0.37208126]\n",
      " [0.25031418 0.34566814 0.40401768]\n",
      " [0.200294   0.35396067 0.44574533]\n",
      " [0.2404338  0.32262627 0.43693993]]\n"
     ]
    }
   ],
   "source": [
    "y_test_pred = Logit.predict(X_test)\n",
    "y_test_pred_proba = Logit.predict_proba(X_test)\n",
    "print(y_test_pred[:5])\n",
    "print(y_test_pred_proba[:5])"
   ]
  },
  {
   "cell_type": "code",
   "execution_count": 24,
   "metadata": {},
   "outputs": [
    {
     "name": "stdout",
     "output_type": "stream",
     "text": [
      "0.39301634472511143\n",
      "[[ 79   4 312]\n",
      " [ 42   2 419]\n",
      " [ 38   2 448]]\n",
      "              precision    recall  f1-score   support\n",
      "\n",
      "           1     0.4969    0.2000    0.2852       395\n",
      "           2     0.2500    0.0043    0.0085       463\n",
      "           3     0.3800    0.9180    0.5375       488\n",
      "\n",
      "    accuracy                         0.3930      1346\n",
      "   macro avg     0.3756    0.3741    0.2771      1346\n",
      "weighted avg     0.3696    0.3930    0.2815      1346\n",
      "\n"
     ]
    }
   ],
   "source": [
    "from sklearn.metrics import accuracy_score\n",
    "from sklearn.metrics import confusion_matrix\n",
    "from sklearn.metrics import classification_report\n",
    "\n",
    "print(accuracy_score(y_test, y_test_pred))\n",
    "print(confusion_matrix(y_test, y_test_pred))\n",
    "print(classification_report(y_test, y_test_pred, digits=4))"
   ]
  },
  {
   "cell_type": "code",
   "execution_count": 25,
   "metadata": {},
   "outputs": [
    {
     "name": "stderr",
     "output_type": "stream",
     "text": [
      "c:\\Users\\MILAB\\Anaconda3\\envs\\torchpy37\\lib\\site-packages\\sklearn\\neural_network\\_multilayer_perceptron.py:1109: DataConversionWarning: A column-vector y was passed when a 1d array was expected. Please change the shape of y to (n_samples, ), for example using ravel().\n",
      "  y = column_or_1d(y, warn=True)\n"
     ]
    }
   ],
   "source": [
    "### 3. MLP Classifier\n",
    "\n",
    "from sklearn.neural_network import MLPClassifier\n",
    "clf = MLPClassifier(random_state=17, max_iter=1000).fit(X_train, y_train)"
   ]
  },
  {
   "cell_type": "code",
   "execution_count": 26,
   "metadata": {},
   "outputs": [
    {
     "name": "stdout",
     "output_type": "stream",
     "text": [
      "0.4279346210995542\n",
      "[[159  43 193]\n",
      " [ 79  54 330]\n",
      " [ 75  50 363]]\n",
      "              precision    recall  f1-score   support\n",
      "\n",
      "           1     0.5080    0.4025    0.4492       395\n",
      "           2     0.3673    0.1166    0.1770       463\n",
      "           3     0.4097    0.7439    0.5284       488\n",
      "\n",
      "    accuracy                         0.4279      1346\n",
      "   macro avg     0.4283    0.4210    0.3849      1346\n",
      "weighted avg     0.4240    0.4279    0.3843      1346\n",
      "\n"
     ]
    }
   ],
   "source": [
    "y_test_pred = clf.predict(X_test)\n",
    "print(accuracy_score(y_test, y_test_pred))\n",
    "print(confusion_matrix(y_test, y_test_pred))\n",
    "print(classification_report(y_test, y_test_pred, digits=4))"
   ]
  },
  {
   "cell_type": "code",
   "execution_count": 27,
   "metadata": {},
   "outputs": [
    {
     "name": "stderr",
     "output_type": "stream",
     "text": [
      "c:\\Users\\MILAB\\Anaconda3\\envs\\torchpy37\\lib\\site-packages\\sklearn\\neighbors\\_classification.py:198: DataConversionWarning: A column-vector y was passed when a 1d array was expected. Please change the shape of y to (n_samples,), for example using ravel().\n",
      "  return self._fit(X, y)\n"
     ]
    },
    {
     "data": {
      "text/plain": [
       "KNeighborsClassifier()"
      ]
     },
     "execution_count": 27,
     "metadata": {},
     "output_type": "execute_result"
    }
   ],
   "source": [
    "### 4. KNN\n",
    "\n",
    "from sklearn.neighbors import KNeighborsClassifier\n",
    "\n",
    "# 5개 근접한 이웃, 거리측정기준 : 유클리드\n",
    "knn = KNeighborsClassifier(n_neighbors=5, p=2)\n",
    "\n",
    "# Model Fitting 과정\n",
    "knn.fit(X_train, y_train)"
   ]
  },
  {
   "cell_type": "code",
   "execution_count": 28,
   "metadata": {},
   "outputs": [
    {
     "name": "stdout",
     "output_type": "stream",
     "text": [
      "0.3699851411589896\n",
      "[[165 118 112]\n",
      " [140 160 163]\n",
      " [146 169 173]]\n",
      "              precision    recall  f1-score   support\n",
      "\n",
      "           1     0.3659    0.4177    0.3901       395\n",
      "           2     0.3579    0.3456    0.3516       463\n",
      "           3     0.3862    0.3545    0.3697       488\n",
      "\n",
      "    accuracy                         0.3700      1346\n",
      "   macro avg     0.3700    0.3726    0.3705      1346\n",
      "weighted avg     0.3705    0.3700    0.3695      1346\n",
      "\n"
     ]
    }
   ],
   "source": [
    "y_test_pred = knn.predict(X_test)\n",
    "print(accuracy_score(y_test, y_test_pred))\n",
    "print(confusion_matrix(y_test, y_test_pred))\n",
    "print(classification_report(y_test, y_test_pred, digits=4))"
   ]
  },
  {
   "cell_type": "code",
   "execution_count": 29,
   "metadata": {},
   "outputs": [
    {
     "name": "stderr",
     "output_type": "stream",
     "text": [
      "c:\\Users\\MILAB\\Anaconda3\\envs\\torchpy37\\lib\\site-packages\\ipykernel_launcher.py:6: DataConversionWarning: A column-vector y was passed when a 1d array was expected. Please change the shape of y to (n_samples,), for example using ravel().\n",
      "  \n"
     ]
    },
    {
     "data": {
      "text/plain": [
       "RandomForestClassifier(n_estimators=5, random_state=17)"
      ]
     },
     "execution_count": 29,
     "metadata": {},
     "output_type": "execute_result"
    }
   ],
   "source": [
    "### 5. Random Forest\n",
    "\n",
    "from sklearn.ensemble import RandomForestClassifier\n",
    "\n",
    "rf_model = RandomForestClassifier(n_estimators=5, random_state=17)\n",
    "rf_model.fit(X_train, y_train)"
   ]
  },
  {
   "cell_type": "code",
   "execution_count": 30,
   "metadata": {},
   "outputs": [
    {
     "name": "stdout",
     "output_type": "stream",
     "text": [
      "0.3514115898959881\n",
      "[[174 118 103]\n",
      " [159 129 175]\n",
      " [160 158 170]]\n",
      "              precision    recall  f1-score   support\n",
      "\n",
      "           1     0.3529    0.4405    0.3919       395\n",
      "           2     0.3185    0.2786    0.2972       463\n",
      "           3     0.3795    0.3484    0.3632       488\n",
      "\n",
      "    accuracy                         0.3514      1346\n",
      "   macro avg     0.3503    0.3558    0.3508      1346\n",
      "weighted avg     0.3507    0.3514    0.3489      1346\n",
      "\n"
     ]
    }
   ],
   "source": [
    "y_test_pred = rf_model.predict(X_test)\n",
    "print(accuracy_score(y_test, y_test_pred))\n",
    "print(confusion_matrix(y_test, y_test_pred))\n",
    "print(classification_report(y_test, y_test_pred, digits=4))"
   ]
  },
  {
   "cell_type": "code",
   "execution_count": null,
   "metadata": {},
   "outputs": [],
   "source": []
  },
  {
   "cell_type": "code",
   "execution_count": null,
   "metadata": {},
   "outputs": [],
   "source": []
  },
  {
   "cell_type": "code",
   "execution_count": null,
   "metadata": {},
   "outputs": [],
   "source": []
  },
  {
   "cell_type": "code",
   "execution_count": null,
   "metadata": {},
   "outputs": [],
   "source": []
  }
 ],
 "metadata": {
  "kernelspec": {
   "display_name": "torchpy37",
   "language": "python",
   "name": "python3"
  },
  "language_info": {
   "codemirror_mode": {
    "name": "ipython",
    "version": 3
   },
   "file_extension": ".py",
   "mimetype": "text/x-python",
   "name": "python",
   "nbconvert_exporter": "python",
   "pygments_lexer": "ipython3",
   "version": "3.7.13"
  }
 },
 "nbformat": 4,
 "nbformat_minor": 2
}
